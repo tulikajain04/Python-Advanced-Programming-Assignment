{
 "cells": [
  {
   "cell_type": "markdown",
   "id": "fbd40d3d",
   "metadata": {},
   "source": [
    "1.Write a function that takes a positive integer num and calculates how many dots exist in a pentagonal shape around the center dot on the Nth iteration.\n",
    "In the image below you can see the first iteration is only a single dot. On the second, there are 6 dots. On the third, there are 16 dots, and on the fourth there are 31 dots.\n",
    "image.png Examples:\n",
    "pentagonal(1) ➞ 1\n",
    "pentagonal(2) ➞ 6\n",
    "pentagonal(3) ➞ 16\n",
    "pentagonal(8) ➞ 141"
   ]
  },
  {
   "cell_type": "code",
   "execution_count": 60,
   "id": "b7e0891e",
   "metadata": {},
   "outputs": [],
   "source": [
    "def pentagonal(n):\n",
    "    out=1\n",
    "    if(n>=1):\n",
    "        for i in range(n):\n",
    "            out=out+(5*i)\n",
    "    print(f'pentagonal({n}) -> {out}')    "
   ]
  },
  {
   "cell_type": "code",
   "execution_count": 61,
   "id": "29ebbbe5",
   "metadata": {},
   "outputs": [
    {
     "name": "stdout",
     "output_type": "stream",
     "text": [
      "pentagonal(1) -> 1\n"
     ]
    }
   ],
   "source": [
    "pentagonal(1)"
   ]
  },
  {
   "cell_type": "code",
   "execution_count": 62,
   "id": "4c627bd3",
   "metadata": {},
   "outputs": [
    {
     "name": "stdout",
     "output_type": "stream",
     "text": [
      "pentagonal(2) -> 6\n"
     ]
    }
   ],
   "source": [
    "pentagonal(2)"
   ]
  },
  {
   "cell_type": "code",
   "execution_count": 63,
   "id": "b14207f4",
   "metadata": {},
   "outputs": [
    {
     "name": "stdout",
     "output_type": "stream",
     "text": [
      "pentagonal(3) -> 16\n"
     ]
    }
   ],
   "source": [
    "pentagonal(3)"
   ]
  },
  {
   "cell_type": "code",
   "execution_count": 64,
   "id": "e9087e71",
   "metadata": {},
   "outputs": [
    {
     "name": "stdout",
     "output_type": "stream",
     "text": [
      "pentagonal(8) -> 141\n"
     ]
    }
   ],
   "source": [
    "pentagonal(8) "
   ]
  },
  {
   "cell_type": "markdown",
   "id": "4f006569",
   "metadata": {},
   "source": [
    "#### 2.. Make a function that encrypts a given input with these steps:\n",
    "Input: \"apple\"\n",
    "Step 1: Reverse the input: \"elppa\"\n",
    "Step 2: Replace all vowels using the following chart:\n",
    "a => 0\n",
    "e => 1\n",
    "i => 2\n",
    "o => 2\n",
    "u => 3\n",
    "#### \"1lpp0\"\n",
    "Step 3: Add \"aca\" to the end of the word: \"1lpp0aca\"\n",
    "Output: \"1lpp0aca\"\n",
    "Examples:\n",
    "encrypt(\"banana\") ➞ \"0n0n0baca\"\n",
    "encrypt(\"karaca\") ➞ \"0c0r0kaca\"\n",
    "encrypt(\"burak\") ➞ \"k0r3baca\"\n",
    "encrypt(\"alpaca\") ➞ \"0c0pl0aca\""
   ]
  },
  {
   "cell_type": "code",
   "execution_count": 22,
   "id": "db9ea230",
   "metadata": {},
   "outputs": [],
   "source": [
    "def encrypt(s):\n",
    "    v={'a':'0','e':'1','i':'2','o':'2','u':'3'}\n",
    "    s1=s[::-1]\n",
    "    st=''\n",
    "    for i in s1:\n",
    "        if(i in ['a','e','i','o','u']):\n",
    "            st=s1.replace(i,v[i])\n",
    "    st+='aca'\n",
    "    print(f'encrypt({s}) -> {st}')\n",
    "    "
   ]
  },
  {
   "cell_type": "code",
   "execution_count": 23,
   "id": "db9544ef",
   "metadata": {},
   "outputs": [
    {
     "name": "stdout",
     "output_type": "stream",
     "text": [
      "encrypt(banana) -> 0n0n0baca\n"
     ]
    }
   ],
   "source": [
    "encrypt(\"banana\")"
   ]
  },
  {
   "cell_type": "code",
   "execution_count": 24,
   "id": "cfd62029",
   "metadata": {},
   "outputs": [
    {
     "name": "stdout",
     "output_type": "stream",
     "text": [
      "encrypt(karaca) -> 0c0r0kaca\n"
     ]
    }
   ],
   "source": [
    "encrypt(\"karaca\")"
   ]
  },
  {
   "cell_type": "code",
   "execution_count": 25,
   "id": "c841c680",
   "metadata": {},
   "outputs": [
    {
     "name": "stdout",
     "output_type": "stream",
     "text": [
      "encrypt(burak) -> kar3baca\n"
     ]
    }
   ],
   "source": [
    "encrypt(\"burak\")"
   ]
  },
  {
   "cell_type": "code",
   "execution_count": 26,
   "id": "26de1f73",
   "metadata": {},
   "outputs": [
    {
     "name": "stdout",
     "output_type": "stream",
     "text": [
      "encrypt(alpaca) -> 0c0pl0aca\n"
     ]
    }
   ],
   "source": [
    "encrypt(\"alpaca\")"
   ]
  },
  {
   "cell_type": "markdown",
   "id": "43031976",
   "metadata": {},
   "source": [
    "#### 3.Given the month and year as numbers, return whether that month contains a Friday 13th.(i.e You can check Python's datetime module)\n",
    "Examples:\n",
    "has_friday_13(3, 2020) ➞ True\n",
    "has_friday_13(10, 2017) ➞ True\n",
    "has_friday_13(1, 1985) ➞ False"
   ]
  },
  {
   "cell_type": "code",
   "execution_count": 27,
   "id": "b07a76a0",
   "metadata": {},
   "outputs": [],
   "source": [
    "import datetime\n",
    "def has_friday_13(m,y):\n",
    "    if(datetime.datetime(y,m,13).strftime('%A')=='Friday'):\n",
    "        print(f'has_friday_13({m,y}) -> True')\n",
    "    else:\n",
    "        print(f'has_friday_13({m,y}) -> False')"
   ]
  },
  {
   "cell_type": "code",
   "execution_count": 28,
   "id": "7a334017",
   "metadata": {},
   "outputs": [
    {
     "name": "stdout",
     "output_type": "stream",
     "text": [
      "has_friday_13((10, 2017)) -> True\n"
     ]
    }
   ],
   "source": [
    "has_friday_13(10, 2017)"
   ]
  },
  {
   "cell_type": "code",
   "execution_count": 29,
   "id": "0f9f43ce",
   "metadata": {},
   "outputs": [
    {
     "name": "stdout",
     "output_type": "stream",
     "text": [
      "has_friday_13((3, 2020)) -> True\n"
     ]
    }
   ],
   "source": [
    "has_friday_13(3, 2020)"
   ]
  },
  {
   "cell_type": "code",
   "execution_count": 30,
   "id": "b004a067",
   "metadata": {},
   "outputs": [
    {
     "name": "stdout",
     "output_type": "stream",
     "text": [
      "has_friday_13((1, 1985)) -> False\n"
     ]
    }
   ],
   "source": [
    "has_friday_13(1, 1985)"
   ]
  },
  {
   "cell_type": "markdown",
   "id": "07fef6f6",
   "metadata": {},
   "source": [
    "#### 4.Write a regular expression that will help us count how many bad cookies are produced every day. You must use RegEx negative lookbehind.\n",
    "Examples:\n",
    "lst = [\"bad cookie\", \"good cookie\", \"bad cookie\", \"good cookie\", \"good cookie\"]\n",
    "pattern = \"yourregularexpressionhere\"\n",
    "len(re.findall(pattern, \", \".join(lst))) ➞ 2"
   ]
  },
  {
   "cell_type": "code",
   "execution_count": 41,
   "id": "64417032",
   "metadata": {},
   "outputs": [
    {
     "name": "stdout",
     "output_type": "stream",
     "text": [
      "No of bad cookie are produced every day -> 2\n"
     ]
    }
   ],
   "source": [
    "import re\n",
    "lst = [\"bad cookie\", \"good cookie\", \"bad cookie\", \"good cookie\", \"good cookie\"]\n",
    "pattern=r'(?<!good)\\scookie'\n",
    "d=len(re.findall(pattern,''.join(lst)))\n",
    "print(f'No of bad cookie are produced every day -> {d}')"
   ]
  },
  {
   "cell_type": "markdown",
   "id": "ced10975",
   "metadata": {},
   "source": [
    "#### 5.. Given a list of words in the singular form, return a set of those words in the plural form if they appear more than once in the list.\n",
    "Examples:\n",
    "pluralize([\"cow\", \"pig\", \"cow\", \"cow\"]) ➞ { \"cows\", \"pig\" }\n",
    "pluralize([\"table\", \"table\", \"table\"]) ➞ { \"tables\" }\n",
    "pluralize([\"chair\", \"pencil\", \"arm\"]) ➞ { \"chair\", \"pencil\", \"arm\" }"
   ]
  },
  {
   "cell_type": "code",
   "execution_count": 54,
   "id": "a9c76c5b",
   "metadata": {},
   "outputs": [],
   "source": [
    "def pluralize(l):\n",
    "    l1=set()\n",
    "    for i in l:\n",
    "        if(l.count(i)>1):\n",
    "            l1.add(i+'s')\n",
    "        else:\n",
    "            l1.add(i)\n",
    "    print(f'pluralize({l}) -> {l1}')"
   ]
  },
  {
   "cell_type": "code",
   "execution_count": 55,
   "id": "e17d0bdf",
   "metadata": {},
   "outputs": [
    {
     "name": "stdout",
     "output_type": "stream",
     "text": [
      "pluralize(['cow', 'pig', 'cow', 'cow']) -> {'pig', 'cows'}\n"
     ]
    }
   ],
   "source": [
    "pluralize([\"cow\", \"pig\", \"cow\", \"cow\"])"
   ]
  },
  {
   "cell_type": "code",
   "execution_count": null,
   "id": "1ba013dd",
   "metadata": {},
   "outputs": [],
   "source": []
  }
 ],
 "metadata": {
  "kernelspec": {
   "display_name": "Python 3 (ipykernel)",
   "language": "python",
   "name": "python3"
  },
  "language_info": {
   "codemirror_mode": {
    "name": "ipython",
    "version": 3
   },
   "file_extension": ".py",
   "mimetype": "text/x-python",
   "name": "python",
   "nbconvert_exporter": "python",
   "pygments_lexer": "ipython3",
   "version": "3.9.12"
  }
 },
 "nbformat": 4,
 "nbformat_minor": 5
}
