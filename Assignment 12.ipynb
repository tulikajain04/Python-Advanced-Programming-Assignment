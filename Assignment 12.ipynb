{
 "cells": [
  {
   "cell_type": "raw",
   "id": "6e2e45d7",
   "metadata": {},
   "source": [
    "1. For this challenge, forget how to add two numbers together. The best\n",
    "explanation on what to do for this function is this meme:\n",
    "\n",
    "Examples\n",
    "meme_sum(26, 39) ➞ 515\n",
    "# 2+3 = 5, 6+9 = 15\n",
    "# 26 + 39 = 515\n",
    "meme_sum(122, 81) ➞ 1103\n",
    "# 1+0 = 1, 2+8 = 10, 2+1 = 3\n",
    "# 122 + 81 = 1103\n",
    "meme_sum(1222, 30277) ➞ 31499"
   ]
  },
  {
   "cell_type": "code",
   "execution_count": 5,
   "id": "0e62b811",
   "metadata": {},
   "outputs": [],
   "source": [
    "def meme_sum(n1,n2):\n",
    "    n1,n2=str(n1),str(n2)\n",
    "    output=''\n",
    "    while(len(n1)!=len(n2)):\n",
    "        if(len(n1)<len(n2)):\n",
    "            n1='0'+n1\n",
    "        else:\n",
    "            n2='0'+n2\n",
    "            \n",
    "    for i in range(len(n1)):\n",
    "        output+=str(int(n1[i])+int(n2[i]))\n",
    "    return output        "
   ]
  },
  {
   "cell_type": "code",
   "execution_count": 6,
   "id": "72fdf0a1",
   "metadata": {},
   "outputs": [
    {
     "data": {
      "text/plain": [
       "'515'"
      ]
     },
     "execution_count": 6,
     "metadata": {},
     "output_type": "execute_result"
    }
   ],
   "source": [
    "meme_sum(26, 39)"
   ]
  },
  {
   "cell_type": "code",
   "execution_count": 7,
   "id": "75cff8a3",
   "metadata": {},
   "outputs": [
    {
     "data": {
      "text/plain": [
       "'1103'"
      ]
     },
     "execution_count": 7,
     "metadata": {},
     "output_type": "execute_result"
    }
   ],
   "source": [
    "meme_sum('122', '081')"
   ]
  },
  {
   "cell_type": "code",
   "execution_count": 8,
   "id": "0340670e",
   "metadata": {},
   "outputs": [
    {
     "data": {
      "text/plain": [
       "'31499'"
      ]
     },
     "execution_count": 8,
     "metadata": {},
     "output_type": "execute_result"
    }
   ],
   "source": [
    "meme_sum('01222', '30277')"
   ]
  },
  {
   "cell_type": "raw",
   "id": "50761a22",
   "metadata": {},
   "source": [
    "2. Given an integer, create a function that returns the next prime. If the number is prime, return the number itself.\n",
    "Examples:\n",
    "next_prime(12) ➞ 13\n",
    "next_prime(24) ➞ 29\n",
    "next_prime(11) ➞ 11\n",
    "# 11 is a prime, so we return the number itself."
   ]
  },
  {
   "cell_type": "code",
   "execution_count": 9,
   "id": "9c3b402c",
   "metadata": {},
   "outputs": [],
   "source": [
    "def prime(n):\n",
    "    if(n==1):\n",
    "        return True\n",
    "    else:\n",
    "        for i in range(2,int(n/2)+1):\n",
    "            if(n%i==0):\n",
    "                return False\n",
    "        return True\n",
    "def next_prime(n):\n",
    "    if(prime(n)):\n",
    "        return n\n",
    "    else:\n",
    "        while(prime(n)!=True):\n",
    "            n=n+1\n",
    "        return n\n",
    "    "
   ]
  },
  {
   "cell_type": "code",
   "execution_count": 10,
   "id": "7b5d5b98",
   "metadata": {},
   "outputs": [
    {
     "data": {
      "text/plain": [
       "13"
      ]
     },
     "execution_count": 10,
     "metadata": {},
     "output_type": "execute_result"
    }
   ],
   "source": [
    "next_prime(12)"
   ]
  },
  {
   "cell_type": "code",
   "execution_count": 11,
   "id": "753502fe",
   "metadata": {},
   "outputs": [
    {
     "data": {
      "text/plain": [
       "29"
      ]
     },
     "execution_count": 11,
     "metadata": {},
     "output_type": "execute_result"
    }
   ],
   "source": [
    "next_prime(24)"
   ]
  },
  {
   "cell_type": "code",
   "execution_count": 12,
   "id": "3f2dc007",
   "metadata": {},
   "outputs": [
    {
     "data": {
      "text/plain": [
       "11"
      ]
     },
     "execution_count": 12,
     "metadata": {},
     "output_type": "execute_result"
    }
   ],
   "source": [
    "next_prime(11)"
   ]
  },
  {
   "cell_type": "raw",
   "id": "21149517",
   "metadata": {},
   "source": [
    "Q. 3. If a person traveled up a hill for 18mins at 20mph and then traveled back\n",
    "\n",
    "down the same path at 60mph then their average speed traveled was 30mph. Write a function that returns the average speed traveled given an uphill time, uphill rate and a downhill rate. Uphill time is given in minutes. Return the rate as an integer (mph). No rounding is necessary. Examples ave_spd(18, 20, 60) ➞ 30 ave_spd(30, 10, 30) ➞ 15 ave_spd(30, 8, 24) ➞ 12"
   ]
  },
  {
   "cell_type": "code",
   "execution_count": 15,
   "id": "dcc3c0e6",
   "metadata": {},
   "outputs": [],
   "source": [
    "def ave_spd(time,speed1,speed2):\n",
    "    uptime=time/60\n",
    "    dis=speed1*uptime\n",
    "    tot_dis=dis*2\n",
    "    downtime=dis/speed2\n",
    "    tot_time=uptime+downtime\n",
    "    tot_speed=tot_dis/tot_time\n",
    "    return tot_speed\n",
    "    \n",
    "    "
   ]
  },
  {
   "cell_type": "code",
   "execution_count": 16,
   "id": "1b237ec6",
   "metadata": {},
   "outputs": [
    {
     "data": {
      "text/plain": [
       "30.0"
      ]
     },
     "execution_count": 16,
     "metadata": {},
     "output_type": "execute_result"
    }
   ],
   "source": [
    "ave_spd(18, 20, 60)"
   ]
  },
  {
   "cell_type": "code",
   "execution_count": 17,
   "id": "034ae477",
   "metadata": {},
   "outputs": [
    {
     "data": {
      "text/plain": [
       "15.0"
      ]
     },
     "execution_count": 17,
     "metadata": {},
     "output_type": "execute_result"
    }
   ],
   "source": [
    "ave_spd(30, 10, 30)"
   ]
  },
  {
   "cell_type": "code",
   "execution_count": 18,
   "id": "a4d86fde",
   "metadata": {},
   "outputs": [
    {
     "data": {
      "text/plain": [
       "12.0"
      ]
     },
     "execution_count": 18,
     "metadata": {},
     "output_type": "execute_result"
    }
   ],
   "source": [
    "ave_spd(30, 8, 24)"
   ]
  },
  {
   "cell_type": "raw",
   "id": "5cbb2264",
   "metadata": {},
   "source": [
    "4. The Kempner Function, applied to a composite number, permits to find the\n",
    "smallest integer greater than zero whose factorial is exactly divided by the\n",
    "number.\n",
    "kempner(6) ➞ 3\n",
    "1! = 1 % 6 &gt; 0\n",
    "2! = 2 % 6 &gt; 0\n",
    "3! = 6 % 6 === 0\n",
    "kempner(10) ➞ 5\n",
    "1! = 1 % 10 &gt; 0\n",
    "2! = 2 % 10 &gt; 0\n",
    "3! = 6 % 10 &gt; 0\n",
    "4! = 24 % 10 &gt; 0\n",
    "5! = 120 % 10 === 0\n",
    "A Kempner Function applied to a prime will always return the prime itself.\n",
    "kempner(2) ➞ 2\n",
    "kempner(5) ➞ 5\n",
    "\n",
    "Given an integer n, implement a Kempner Function.\n",
    "Examples\n",
    "kempner(6) ➞ 3\n",
    "kempner(10) ➞ 5\n",
    "kempner(2) ➞ 2"
   ]
  },
  {
   "cell_type": "code",
   "execution_count": 19,
   "id": "4a6a11b1",
   "metadata": {},
   "outputs": [],
   "source": [
    "def kempner(num):\n",
    "    output=0\n",
    "    def fact(n):\n",
    "        if(n==1):\n",
    "            return 1\n",
    "        else:\n",
    "            return n*fact(n-1)\n",
    "    for i in range(1,num+1):\n",
    "        if(fact(i)%num==0):\n",
    "            output=i\n",
    "            break\n",
    "    return output"
   ]
  },
  {
   "cell_type": "code",
   "execution_count": 20,
   "id": "d2f93f88",
   "metadata": {},
   "outputs": [
    {
     "data": {
      "text/plain": [
       "3"
      ]
     },
     "execution_count": 20,
     "metadata": {},
     "output_type": "execute_result"
    }
   ],
   "source": [
    "kempner(6)"
   ]
  },
  {
   "cell_type": "code",
   "execution_count": 21,
   "id": "affa19f5",
   "metadata": {},
   "outputs": [
    {
     "data": {
      "text/plain": [
       "5"
      ]
     },
     "execution_count": 21,
     "metadata": {},
     "output_type": "execute_result"
    }
   ],
   "source": [
    "kempner(10)"
   ]
  },
  {
   "cell_type": "code",
   "execution_count": 22,
   "id": "75328b88",
   "metadata": {},
   "outputs": [
    {
     "data": {
      "text/plain": [
       "5"
      ]
     },
     "execution_count": 22,
     "metadata": {},
     "output_type": "execute_result"
    }
   ],
   "source": [
    "kempner(5)"
   ]
  },
  {
   "cell_type": "code",
   "execution_count": 23,
   "id": "55e7a563",
   "metadata": {},
   "outputs": [
    {
     "data": {
      "text/plain": [
       "2"
      ]
     },
     "execution_count": 23,
     "metadata": {},
     "output_type": "execute_result"
    }
   ],
   "source": [
    "kempner(2)"
   ]
  },
  {
   "cell_type": "raw",
   "id": "4044f2fb",
   "metadata": {},
   "source": [
    "5. You work in a factory, and your job is to take items from a conveyor belt and pack them into boxes. Each box can hold a maximum of 10 kgs. Given a list containing the weight (in kg) of each item, how many boxes would you need to pack all of the items?\n",
    "Examples:\n",
    "boxes([2, 1, 2, 5, 4, 3, 6, 1, 1, 9, 3, 2]) ➞ 5\n",
    "# Box 1 = [2, 1, 2, 5] (10kg)\n",
    "# Box 2 = [4, 3] (7kg)\n",
    "# Box 3 = [6, 1, 1] (8kg)\n",
    "# Box 4 = [9] (9kg)\n",
    "# Box 5 = [3, 2] (5kg)"
   ]
  },
  {
   "cell_type": "code",
   "execution_count": 33,
   "id": "fcc7b97d",
   "metadata": {},
   "outputs": [],
   "source": [
    "def boxes(l):\n",
    "    l1=len(l)\n",
    "    i=0\n",
    "    out=[]\n",
    "    temp=[]\n",
    "    while(l1):\n",
    "        if(sum(out)<=10):\n",
    "            out.append(l[i])\n",
    "            i=i+1\n",
    "            l1=l1-1\n",
    "        elif(sum(out)>10):\n",
    "            out.append(out[:-1:])\n",
    "            i=i-1\n",
    "            l1=l1+1\n",
    "            out.clear()\n",
    "    temp.append(out)\n",
    "    print(temp)\n",
    "    print(len(temp))\n",
    "    for i in range(len(temp)):\n",
    "        print(\"Box {} = {} {}kg\".format(i+1, temp[i], sum(temp[i])))"
   ]
  },
  {
   "cell_type": "code",
   "execution_count": 34,
   "id": "c2eb5940",
   "metadata": {},
   "outputs": [
    {
     "name": "stdout",
     "output_type": "stream",
     "text": [
      "[[3, 2]]\n",
      "1\n",
      "Box 1 = [3, 2] 5kg\n"
     ]
    }
   ],
   "source": [
    "boxes([2, 1, 2, 5, 4, 3, 6, 1, 1, 9, 3, 2])"
   ]
  },
  {
   "cell_type": "code",
   "execution_count": null,
   "id": "bdfc9d23",
   "metadata": {},
   "outputs": [],
   "source": []
  }
 ],
 "metadata": {
  "kernelspec": {
   "display_name": "Python 3 (ipykernel)",
   "language": "python",
   "name": "python3"
  },
  "language_info": {
   "codemirror_mode": {
    "name": "ipython",
    "version": 3
   },
   "file_extension": ".py",
   "mimetype": "text/x-python",
   "name": "python",
   "nbconvert_exporter": "python",
   "pygments_lexer": "ipython3",
   "version": "3.9.12"
  }
 },
 "nbformat": 4,
 "nbformat_minor": 5
}
