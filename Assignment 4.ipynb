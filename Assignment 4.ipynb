{
 "cells": [
  {
   "cell_type": "markdown",
   "id": "eec0e4c1",
   "metadata": {},
   "source": [
    "### 1. In mathematics, the Fibonacci numbers, commonly denoted Fn, form a sequence, called the Fibonacci sequence, such that each number is the sum of the two preceding ones, starting from 0 and 1:\n",
    "image.png\n",
    "\n",
    "The beginning of the sequence is this:\n",
    "\n",
    "0, 1, 1, 2, 3, 5, 8, 13, 21, 34, 55, 89, 144, ...\n",
    "\n",
    "The function fastFib(num) returns the fibonacci number Fn, of the given num as an argument.\n",
    "\n",
    "Examples\n",
    "\n",
    "fib_fast(5) ➞ 5\n",
    "\n",
    "fib_fast(10) ➞ 55\n",
    "\n",
    "fib_fast(20) ➞ 6765\n",
    "\n",
    "fib_fast(50) ➞ 12586269025"
   ]
  },
  {
   "cell_type": "code",
   "execution_count": 5,
   "id": "4b305eea",
   "metadata": {},
   "outputs": [],
   "source": [
    "def fib_fast(n):\n",
    "    a=0\n",
    "    b=1\n",
    "    for i in range(n-1):\n",
    "        if(n<0):\n",
    "            c=0\n",
    "        else:\n",
    "            c=a+b\n",
    "            a=b\n",
    "            b=c\n",
    "    print(f'fib_fast({n}) -> {c}')"
   ]
  },
  {
   "cell_type": "code",
   "execution_count": 6,
   "id": "873ed389",
   "metadata": {},
   "outputs": [
    {
     "name": "stdout",
     "output_type": "stream",
     "text": [
      "fib_fast(5) -> 5\n"
     ]
    }
   ],
   "source": [
    "fib_fast(5)"
   ]
  },
  {
   "cell_type": "code",
   "execution_count": 7,
   "id": "98966009",
   "metadata": {},
   "outputs": [
    {
     "name": "stdout",
     "output_type": "stream",
     "text": [
      "fib_fast(10) -> 55\n"
     ]
    }
   ],
   "source": [
    "fib_fast(10)"
   ]
  },
  {
   "cell_type": "code",
   "execution_count": 8,
   "id": "d4b45eac",
   "metadata": {},
   "outputs": [
    {
     "name": "stdout",
     "output_type": "stream",
     "text": [
      "fib_fast(20) -> 6765\n"
     ]
    }
   ],
   "source": [
    "fib_fast(20)"
   ]
  },
  {
   "cell_type": "code",
   "execution_count": 9,
   "id": "9329ca40",
   "metadata": {},
   "outputs": [
    {
     "name": "stdout",
     "output_type": "stream",
     "text": [
      "fib_fast(50) -> 12586269025\n"
     ]
    }
   ],
   "source": [
    "fib_fast(50)"
   ]
  },
  {
   "cell_type": "markdown",
   "id": "b31294ac",
   "metadata": {},
   "source": [
    "### 2. Create a function that takes a strings characters as ASCII and returns each characters hexadecimal value as a string.\n",
    "Examples\n",
    "\n",
    "convert_to_hex(\"hello world\") ➞ \"68 65 6c 6c 6f 20 77 6f 72 6c 64\"\n",
    "\n",
    "convert_to_hex(\"Big Boi\") ➞ \"42 69 67 20 42 6f 69\"\n",
    "\n",
    "convert_to_hex(\"Marty Poppinson\") ➞ \"4d 61 72 74 79 20 50 6f 70 70 69 6e 73 6f 6e\""
   ]
  },
  {
   "cell_type": "code",
   "execution_count": 40,
   "id": "a99e0213",
   "metadata": {},
   "outputs": [],
   "source": [
    "def convert_to_hex(s):\n",
    "    hexa=[]\n",
    "    for i in range(len(s)):\n",
    "        ch=s[i]\n",
    "        inte=ord(ch)\n",
    "        h=hex(inte).lstrip('0x')\n",
    "        hexa.append(h)\n",
    "    he=\" \".join(hexa)\n",
    "    print(f'convert_to_hex({s}) -> \"{he}\"')"
   ]
  },
  {
   "cell_type": "code",
   "execution_count": 41,
   "id": "d81bb891",
   "metadata": {},
   "outputs": [
    {
     "name": "stdout",
     "output_type": "stream",
     "text": [
      "convert_to_hex(hello world) -> \"68 65 6c 6c 6f 20 77 6f 72 6c 64\"\n"
     ]
    }
   ],
   "source": [
    "convert_to_hex(\"hello world\")"
   ]
  },
  {
   "cell_type": "code",
   "execution_count": 42,
   "id": "8e24b2f9",
   "metadata": {},
   "outputs": [
    {
     "name": "stdout",
     "output_type": "stream",
     "text": [
      "convert_to_hex(Big Boi) -> \"42 69 67 20 42 6f 69\"\n"
     ]
    }
   ],
   "source": [
    "convert_to_hex(\"Big Boi\")"
   ]
  },
  {
   "cell_type": "code",
   "execution_count": 43,
   "id": "494d75c4",
   "metadata": {},
   "outputs": [
    {
     "name": "stdout",
     "output_type": "stream",
     "text": [
      "convert_to_hex(Marty Poppinson) -> \"4d 61 72 74 79 20 50 6f 70 70 69 6e 73 6f 6e\"\n"
     ]
    }
   ],
   "source": [
    "convert_to_hex(\"Marty Poppinson\")"
   ]
  },
  {
   "cell_type": "markdown",
   "id": "4b18d415",
   "metadata": {},
   "source": [
    "### 3. Someone has attempted to censor my strings by replacing every vowel\n",
    "with a *, l*k* th*s. Luckily, I've been able to find the vowels that were\n",
    "removed.\n",
    "Given a censored string and a string of the censored vowels, return the\n",
    "original uncensored string.\n",
    "Example\n",
    "uncensor('Wh*r* d*d my v*w*ls g*?', 'eeioeo') ➞ 'Where did my vowels go?'\n",
    "uncensor('abcd', '') ➞ 'abcd'\n",
    "uncensor('*PP*RC*S*', 'UEAE') ➞ 'UPPERCASE'"
   ]
  },
  {
   "cell_type": "code",
   "execution_count": 67,
   "id": "59ecbcfc",
   "metadata": {},
   "outputs": [],
   "source": [
    "def uncensor(s,v):\n",
    "    s1=''\n",
    "    j=0\n",
    "    for i in range(len(s)):\n",
    "        if(s[i]=='*'):\n",
    "            s1+=v[j]\n",
    "            j+=1\n",
    "        else:\n",
    "            s1+=s[i]\n",
    "    print(f'uncensor({s}) -> {s1}')\n",
    "    "
   ]
  },
  {
   "cell_type": "code",
   "execution_count": 68,
   "id": "7d8e4cec",
   "metadata": {},
   "outputs": [
    {
     "name": "stdout",
     "output_type": "stream",
     "text": [
      "uncensor(Wh*r* d*d my v*w*ls g*?) -> Where did my vowels go?\n"
     ]
    }
   ],
   "source": [
    "uncensor('Wh*r* d*d my v*w*ls g*?', 'eeioeo')"
   ]
  },
  {
   "cell_type": "markdown",
   "id": "cb605b68",
   "metadata": {},
   "source": [
    "### 4. Write a function that takes an IP address and returns the domain name\n",
    "using PTR DNS records.\n",
    "Example\n",
    "get_domain('8.8.8.8') ➞ 'dns.google'\n",
    "get_domain('8.8.4.4') ➞ 'dns.google'"
   ]
  },
  {
   "cell_type": "code",
   "execution_count": 70,
   "id": "1ff384a2",
   "metadata": {},
   "outputs": [
    {
     "name": "stdout",
     "output_type": "stream",
     "text": [
      "Collecting dnspython\n",
      "  Downloading dnspython-2.2.1-py3-none-any.whl (269 kB)\n",
      "Installing collected packages: dnspython\n",
      "Successfully installed dnspython-2.2.1\n",
      "Note: you may need to restart the kernel to use updated packages.\n"
     ]
    }
   ],
   "source": [
    "pip install dnspython"
   ]
  },
  {
   "cell_type": "code",
   "execution_count": 75,
   "id": "49034ec8",
   "metadata": {},
   "outputs": [],
   "source": [
    "from dns import reversename\n",
    "from dns import resolver\n",
    "def get_domain(s):\n",
    "    add = reversename.from_address(s)\n",
    "    name = str(resolver.resolve(add,\"PTR\")[0])\n",
    "    print(f'get_domain({s}) -> {name}')"
   ]
  },
  {
   "cell_type": "code",
   "execution_count": 76,
   "id": "f846e884",
   "metadata": {},
   "outputs": [
    {
     "name": "stdout",
     "output_type": "stream",
     "text": [
      "get_domain(8.8.8.8) -> dns.google.\n"
     ]
    }
   ],
   "source": [
    "get_domain('8.8.8.8')"
   ]
  },
  {
   "cell_type": "code",
   "execution_count": 77,
   "id": "8a083733",
   "metadata": {},
   "outputs": [
    {
     "name": "stdout",
     "output_type": "stream",
     "text": [
      "get_domain(8.8.4.4) -> dns.google.\n"
     ]
    }
   ],
   "source": [
    "get_domain('8.8.4.4')"
   ]
  },
  {
   "cell_type": "markdown",
   "id": "d2668c78",
   "metadata": {},
   "source": [
    "### 5. Create a function that takes an integer n and returns the factorial of factorials. See below examples for a better understanding:\n",
    "Examples\n",
    "\n",
    "fact_of_fact(4) ➞ 288\n",
    "\n",
    "4! 3! 2! * 1! = 288\n",
    "fact_of_fact(5) ➞ 34560\n",
    "\n",
    "fact_of_fact(6) ➞ 24883200"
   ]
  },
  {
   "cell_type": "code",
   "execution_count": 3,
   "id": "91de2d4b",
   "metadata": {},
   "outputs": [],
   "source": [
    "def fact(i):\n",
    "    if((i==0) | (i==1)):\n",
    "        return 1\n",
    "    else:\n",
    "        return i*fact(i-1)\n",
    "def fact_of_fact(n):\n",
    "    f=1\n",
    "    while(n!=0):\n",
    "        f=f*fact(n)\n",
    "        n-=1\n",
    "    print(f'fact_of_fact({n}) -> {f} ')"
   ]
  },
  {
   "cell_type": "code",
   "execution_count": 4,
   "id": "c715d12b",
   "metadata": {},
   "outputs": [
    {
     "name": "stdout",
     "output_type": "stream",
     "text": [
      "fact_of_fact(0) -> 288 \n"
     ]
    }
   ],
   "source": [
    "fact_of_fact(4)"
   ]
  },
  {
   "cell_type": "code",
   "execution_count": 5,
   "id": "0d802cc4",
   "metadata": {},
   "outputs": [
    {
     "name": "stdout",
     "output_type": "stream",
     "text": [
      "fact_of_fact(0) -> 34560 \n"
     ]
    }
   ],
   "source": [
    "fact_of_fact(5) "
   ]
  },
  {
   "cell_type": "code",
   "execution_count": 6,
   "id": "e8f81d5d",
   "metadata": {},
   "outputs": [
    {
     "name": "stdout",
     "output_type": "stream",
     "text": [
      "fact_of_fact(0) -> 24883200 \n"
     ]
    }
   ],
   "source": [
    "fact_of_fact(6)"
   ]
  },
  {
   "cell_type": "code",
   "execution_count": null,
   "id": "fcb2f80e",
   "metadata": {},
   "outputs": [],
   "source": []
  }
 ],
 "metadata": {
  "kernelspec": {
   "display_name": "Python 3 (ipykernel)",
   "language": "python",
   "name": "python3"
  },
  "language_info": {
   "codemirror_mode": {
    "name": "ipython",
    "version": 3
   },
   "file_extension": ".py",
   "mimetype": "text/x-python",
   "name": "python",
   "nbconvert_exporter": "python",
   "pygments_lexer": "ipython3",
   "version": "3.9.12"
  }
 },
 "nbformat": 4,
 "nbformat_minor": 5
}
