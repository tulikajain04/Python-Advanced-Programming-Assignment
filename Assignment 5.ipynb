{
 "cells": [
  {
   "cell_type": "markdown",
   "id": "5c0e5fb2",
   "metadata": {},
   "source": [
    "### 1. Create a function that takes a number n (integer greater than zero) as an argument, and returns 2 if n is odd and 8 if n is even.\n",
    "You can only use the following arithmetic operators: addition of numbers +, subtraction of numbers -, multiplication of number *, division of number /, and exponentiation **.\n",
    "\n",
    "You are not allowed to use any other methods in this challenge (i.e. no if statements, comparison operators, etc).\n",
    "\n",
    "Examples\n",
    "\n",
    "f(1) ➞ 2\n",
    "\n",
    "f(2) ➞ 8\n",
    "\n",
    "f(3) ➞ 2"
   ]
  },
  {
   "cell_type": "code",
   "execution_count": 2,
   "id": "8810f96a",
   "metadata": {},
   "outputs": [],
   "source": [
    "def f(n):\n",
    "    l=[8,2]\n",
    "    print(f'f({n}) -> {l[n&1]}')"
   ]
  },
  {
   "cell_type": "code",
   "execution_count": 3,
   "id": "78649abf",
   "metadata": {},
   "outputs": [
    {
     "name": "stdout",
     "output_type": "stream",
     "text": [
      "f(1) -> 2\n"
     ]
    }
   ],
   "source": [
    "f(1)"
   ]
  },
  {
   "cell_type": "code",
   "execution_count": 4,
   "id": "c3da0497",
   "metadata": {},
   "outputs": [
    {
     "name": "stdout",
     "output_type": "stream",
     "text": [
      "f(2) -> 8\n"
     ]
    }
   ],
   "source": [
    "f(2)"
   ]
  },
  {
   "cell_type": "code",
   "execution_count": 5,
   "id": "4fb64103",
   "metadata": {},
   "outputs": [
    {
     "name": "stdout",
     "output_type": "stream",
     "text": [
      "f(3) -> 2\n"
     ]
    }
   ],
   "source": [
    "f(3)"
   ]
  },
  {
   "cell_type": "markdown",
   "id": "4ef344b8",
   "metadata": {},
   "source": [
    "### 2. Create a function that returns the majority vote in a list. A majority vote is an element that occurs > N/2 times in a list (where N is the length of the list).\n",
    "Examples\n",
    "\n",
    "majority_vote([\"A\", \"A\", \"B\"]) ➞ \"A\"\n",
    "\n",
    "majority_vote([\"A\", \"A\", \"A\", \"B\", \"C\", \"A\"]) ➞ \"A\"\n",
    "\n",
    "majority_vote([\"A\", \"B\", \"B\", \"A\", \"C\", \"C\"]) ➞ None"
   ]
  },
  {
   "cell_type": "code",
   "execution_count": 16,
   "id": "80242bfe",
   "metadata": {},
   "outputs": [],
   "source": [
    "def majority_vote(l):\n",
    "    n=len(l)\n",
    "    ret=\"None\"\n",
    "    for i in set(l):\n",
    "        if((l.count(i)) > (n/2)):\n",
    "            ret=i\n",
    "            \n",
    "    print(f'majority_vote{l} -> \"{ret}\"')"
   ]
  },
  {
   "cell_type": "code",
   "execution_count": 17,
   "id": "582fac3e",
   "metadata": {},
   "outputs": [
    {
     "name": "stdout",
     "output_type": "stream",
     "text": [
      "majority_vote['A', 'A', 'B'] -> \"A\"\n"
     ]
    }
   ],
   "source": [
    "majority_vote([\"A\", \"A\", \"B\"])"
   ]
  },
  {
   "cell_type": "code",
   "execution_count": 18,
   "id": "9e616786",
   "metadata": {},
   "outputs": [
    {
     "name": "stdout",
     "output_type": "stream",
     "text": [
      "majority_vote['A', 'A', 'A', 'B', 'C', 'A'] -> \"A\"\n"
     ]
    }
   ],
   "source": [
    "majority_vote([\"A\", \"A\", \"A\", \"B\", \"C\", \"A\"]) "
   ]
  },
  {
   "cell_type": "code",
   "execution_count": 19,
   "id": "19d0f4c5",
   "metadata": {},
   "outputs": [
    {
     "name": "stdout",
     "output_type": "stream",
     "text": [
      "majority_vote['A', 'B', 'B', 'A', 'C', 'C'] -> \"None\"\n"
     ]
    }
   ],
   "source": [
    "majority_vote([\"A\", \"B\", \"B\", \"A\", \"C\", \"C\"])"
   ]
  },
  {
   "cell_type": "raw",
   "id": "4f8a2ddc",
   "metadata": {},
   "source": [
    "3. Create a function that takes a string txt and censors any word from a given list lst. The text removed must be replaced by the given character char.\n",
    "Examples\n",
    "\n",
    "censor_string(\"Today is a Wednesday!\", [\"Today\", \"a\"], \"-\") ➞ \"----- is - Wednesday!\"\n",
    "\n",
    "censor_string(\"The cow jumped over the moon.\", [\"cow\", \"over\"], \"\"), \"The ** jumped ** the moon.\")\n",
    "\n",
    "censor_string(\"Why did the chicken cross the road?\", [\"Did\", \"chicken\", \"road\"], \"\") ➞ \"Why ** the *** cross the **?\""
   ]
  },
  {
   "cell_type": "code",
   "execution_count": 28,
   "id": "ea0607a6",
   "metadata": {},
   "outputs": [],
   "source": [
    "def censor_string(s,l,c):\n",
    "    s1=s\n",
    "    for i in l:\n",
    "        if(i in s1):\n",
    "            ln=len(i)\n",
    "            s1=s1.replace(i, c*ln)\n",
    "    print(f'censor_string({s},{l},{c}) -> {s1}')\n",
    "        \n",
    "        "
   ]
  },
  {
   "cell_type": "code",
   "execution_count": 29,
   "id": "b442c42a",
   "metadata": {},
   "outputs": [
    {
     "name": "stdout",
     "output_type": "stream",
     "text": [
      "censor_string(Today is a Wednesday!,['Today', 'a'],-) -> ----- is - Wednesd-y!\n"
     ]
    }
   ],
   "source": [
    "censor_string(\"Today is a Wednesday!\", [\"Today\", \"a\"], \"-\")"
   ]
  },
  {
   "cell_type": "code",
   "execution_count": 31,
   "id": "d5309dbd",
   "metadata": {},
   "outputs": [
    {
     "name": "stdout",
     "output_type": "stream",
     "text": [
      "censor_string(The cow jumped over the moon.,['cow', 'over'],*) -> The *** jumped **** the moon.\n"
     ]
    }
   ],
   "source": [
    "censor_string(\"The cow jumped over the moon.\", [\"cow\", \"over\"], \"*\")"
   ]
  },
  {
   "cell_type": "code",
   "execution_count": 33,
   "id": "5fd82236",
   "metadata": {},
   "outputs": [
    {
     "name": "stdout",
     "output_type": "stream",
     "text": [
      "censor_string(Why did the chicken cross the road?,['did', 'chicken', 'road'],*) -> Why *** the ******* cross the ****?\n"
     ]
    }
   ],
   "source": [
    "censor_string(\"Why did the chicken cross the road?\", [\"did\", \"chicken\", \"road\"], \"*\") "
   ]
  },
  {
   "cell_type": "markdown",
   "id": "74a3d13b",
   "metadata": {},
   "source": [
    "### 4. In mathematics a Polydivisible Number (or magic number) is a number in a given number base with digits abcde... that has the following properties:\n",
    "Its first digit a is not 0.\n",
    "The number formed by its first two digits ab is a multiple of 2.\n",
    "The number formed by its first three digits abc is a multiple of 3.\n",
    "The number formed by its first four digits abcd is a multiple of 4.\n",
    "Create a function which takes an integer n and returns True if the given number is a Polydivisible Number and False otherwise.\n",
    "\n",
    "Examples\n",
    "\n",
    "is_polydivisible(1232) ➞ True 1 / 1 = 1 12 / 2 = 6 123 / 3 = 41 1232 / 4 = 308\n",
    "\n",
    "is_polydivisible(123220 ) ➞ False 1 / 1 = 1 12 / 2 = 6 123 / 3 = 41 1232 / 4 = 308 12322 / 5 = 2464.4 # Not a Whole Number 123220 /6 = 220536.333... # Not a Whole Number"
   ]
  },
  {
   "cell_type": "code",
   "execution_count": 43,
   "id": "c88440cf",
   "metadata": {},
   "outputs": [],
   "source": [
    "def is_polydivisible(n):\n",
    "    le=str(n)\n",
    "    if(n%len(le)==0):\n",
    "        out=\"True\"\n",
    "    else:\n",
    "        out=\"False\"\n",
    "    print(f'is_polydivisible({n}) -> {out}')"
   ]
  },
  {
   "cell_type": "code",
   "execution_count": 44,
   "id": "bf5f6267",
   "metadata": {},
   "outputs": [
    {
     "name": "stdout",
     "output_type": "stream",
     "text": [
      "is_polydivisible(1232) -> True\n"
     ]
    }
   ],
   "source": [
    "is_polydivisible(1232)"
   ]
  },
  {
   "cell_type": "code",
   "execution_count": 45,
   "id": "4bde0345",
   "metadata": {},
   "outputs": [
    {
     "name": "stdout",
     "output_type": "stream",
     "text": [
      "is_polydivisible(123220) -> False\n"
     ]
    }
   ],
   "source": [
    "is_polydivisible(123220 )"
   ]
  },
  {
   "cell_type": "markdown",
   "id": "7aad9fe2",
   "metadata": {},
   "source": [
    "### 5. Create a function that takes a list of numbers and returns the sum of all prime numbers in the list.\n",
    "Examples\n",
    "\n",
    "sum_primes([1, 2, 3, 4, 5, 6, 7, 8, 9, 10]) ➞ 17\n",
    "\n",
    "sum_primes([2, 3, 4, 11, 20, 50, 71]) ➞ 87\n",
    "\n",
    "sum_primes([]) ➞ None"
   ]
  },
  {
   "cell_type": "code",
   "execution_count": 66,
   "id": "1b2baa99",
   "metadata": {},
   "outputs": [],
   "source": [
    "def sum_primes(l):\n",
    "    sum1 = 0 \n",
    "    flag = 0\n",
    "    if l:\n",
    "        for n in l:\n",
    "            if n == 2:\n",
    "                sum1 += n\n",
    "            elif n > 2:            \n",
    "                for i in range(2,n):\n",
    "                    if n % i == 0:\n",
    "                        break\n",
    "                else:\n",
    "                    sum1 += n\n",
    "        print(f'sum_primes({l}) -> {sum1}')\n",
    "    else:\n",
    "        print(f'sum_primes({l}) -> None')"
   ]
  },
  {
   "cell_type": "code",
   "execution_count": 67,
   "id": "efb26a52",
   "metadata": {},
   "outputs": [
    {
     "name": "stdout",
     "output_type": "stream",
     "text": [
      "sum_primes([1, 2, 3, 4, 5, 6, 7, 8, 9, 10]) -> 17\n"
     ]
    }
   ],
   "source": [
    "sum_primes([1, 2, 3, 4, 5, 6, 7, 8, 9, 10])"
   ]
  },
  {
   "cell_type": "code",
   "execution_count": 68,
   "id": "65f348f7",
   "metadata": {},
   "outputs": [
    {
     "name": "stdout",
     "output_type": "stream",
     "text": [
      "sum_primes([2, 3, 4, 11, 20, 50, 71]) -> 87\n"
     ]
    }
   ],
   "source": [
    "sum_primes([2, 3, 4, 11, 20, 50, 71])"
   ]
  },
  {
   "cell_type": "code",
   "execution_count": 69,
   "id": "2e7d0410",
   "metadata": {},
   "outputs": [
    {
     "name": "stdout",
     "output_type": "stream",
     "text": [
      "sum_primes([]) -> None\n"
     ]
    }
   ],
   "source": [
    "sum_primes([])"
   ]
  },
  {
   "cell_type": "code",
   "execution_count": null,
   "id": "d3d55c1d",
   "metadata": {},
   "outputs": [],
   "source": []
  }
 ],
 "metadata": {
  "kernelspec": {
   "display_name": "Python 3 (ipykernel)",
   "language": "python",
   "name": "python3"
  },
  "language_info": {
   "codemirror_mode": {
    "name": "ipython",
    "version": 3
   },
   "file_extension": ".py",
   "mimetype": "text/x-python",
   "name": "python",
   "nbconvert_exporter": "python",
   "pygments_lexer": "ipython3",
   "version": "3.9.12"
  }
 },
 "nbformat": 4,
 "nbformat_minor": 5
}
