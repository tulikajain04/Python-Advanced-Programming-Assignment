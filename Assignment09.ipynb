{
 "cells": [
  {
   "cell_type": "markdown",
   "id": "67663efa",
   "metadata": {},
   "source": [
    "Q. 1. YouTube offers different playback speed options for users. This allows users to increase or decrease the \n",
    "speed of the video content. Given the actual duration and playback speed of the video, calculate the playback \n",
    "duration of the video. \n",
    "Examples \n",
    "playback_duration('00:30:00', 2) ➞ '00:15:00' \n",
    "playback_duration('01:20:00', 1.5) ➞ '00:53:20'"
   ]
  },
  {
   "cell_type": "code",
   "execution_count": 3,
   "id": "d20d67c0",
   "metadata": {},
   "outputs": [],
   "source": [
    "import datetime\n",
    "def playback_duration(s,n):\n",
    "    h=int(s.split(\":\")[0])\n",
    "    m=int(s.split(\":\")[1])\n",
    "    sec=int(s.split(\":\")[2])\n",
    "    duration=((h*60*60)+(m*60)+sec)/n\n",
    "    conv=str(datetime.timedelta(seconds=duration))\n",
    "    return conv\n",
    "    "
   ]
  },
  {
   "cell_type": "code",
   "execution_count": 4,
   "id": "9428aed6",
   "metadata": {},
   "outputs": [
    {
     "data": {
      "text/plain": [
       "'0:15:00'"
      ]
     },
     "execution_count": 4,
     "metadata": {},
     "output_type": "execute_result"
    }
   ],
   "source": [
    "playback_duration('00:30:00', 2)"
   ]
  },
  {
   "cell_type": "code",
   "execution_count": 5,
   "id": "a67169fd",
   "metadata": {},
   "outputs": [
    {
     "data": {
      "text/plain": [
       "'0:53:20'"
      ]
     },
     "execution_count": 5,
     "metadata": {},
     "output_type": "execute_result"
    }
   ],
   "source": [
    "playback_duration('01:20:00', 1.5)"
   ]
  },
  {
   "cell_type": "code",
   "execution_count": 6,
   "id": "4db9adce",
   "metadata": {},
   "outputs": [
    {
     "data": {
      "text/plain": [
       "'4 days, 6:40:18'"
      ]
     },
     "execution_count": 6,
     "metadata": {},
     "output_type": "execute_result"
    }
   ],
   "source": [
    "playback_duration(\"51:20:09\", 0.5)"
   ]
  },
  {
   "cell_type": "markdown",
   "id": "10d01942",
   "metadata": {},
   "source": [
    "Q. 2. We needs your help to construct a building which will be a pile of n cubes.\n",
    "\n",
    "The cube at the bottom will have a volume of n^3, the cube above will have volume of (n-1)^3 and so on until the top which will have a volume of 1^3. Given the total volume m of the building, can you find the number of cubes n required for the building? In other words, you have to return an integer n such that: n^3 + (n-1)^3 + ... + 1^3 == m Return None if there is no such number. Examples pile_of_cubes(1071225) ➞ 45 pile_of_cubes(4183059834009) ➞ 2022 pile_of_cubes(16) ➞ None"
   ]
  },
  {
   "cell_type": "code",
   "execution_count": 9,
   "id": "06db4279",
   "metadata": {},
   "outputs": [],
   "source": [
    "def cubes_build(n,c):\n",
    "    if(n<c**3):\n",
    "        return -1\n",
    "    elif(n==c**3):\n",
    "        return c\n",
    "    return cubes_build(n-c**3,c+1)\n",
    "def pile_of_cubes(n):\n",
    "    cubes=1\n",
    "    return cubes_build(n,cubes)"
   ]
  },
  {
   "cell_type": "code",
   "execution_count": 10,
   "id": "f39dab9b",
   "metadata": {},
   "outputs": [
    {
     "data": {
      "text/plain": [
       "45"
      ]
     },
     "execution_count": 10,
     "metadata": {},
     "output_type": "execute_result"
    }
   ],
   "source": [
    "pile_of_cubes(1071225)"
   ]
  },
  {
   "cell_type": "code",
   "execution_count": 11,
   "id": "281d2ccb",
   "metadata": {},
   "outputs": [
    {
     "data": {
      "text/plain": [
       "2022"
      ]
     },
     "execution_count": 11,
     "metadata": {},
     "output_type": "execute_result"
    }
   ],
   "source": [
    "pile_of_cubes(4183059834009)"
   ]
  },
  {
   "cell_type": "code",
   "execution_count": 12,
   "id": "8b5cb675",
   "metadata": {},
   "outputs": [
    {
     "data": {
      "text/plain": [
       "-1"
      ]
     },
     "execution_count": 12,
     "metadata": {},
     "output_type": "execute_result"
    }
   ],
   "source": [
    "pile_of_cubes(16)"
   ]
  },
  {
   "cell_type": "markdown",
   "id": "3fd3a2f2",
   "metadata": {},
   "source": [
    "Q. 3. A fulcrum of a list is an integer such that all elements to the left of it and all\n",
    "\n",
    "elements to the right of it sum to the same value. Write a function that finds the fulcrum of a list. To illustrate: find_fulcrum([3, 1, 5, 2, 4, 6, -1]) ➞ 2 // Since [3, 1, 5] and [4, 6, -1] both sum to 9 Examples\n",
    "\n",
    "find_fulcrum([1, 2, 4, 9, 10, -10, -9, 3]) ➞ 4 find_fulcrum([9, 1, 9]) ➞ 1 find_fulcrum([7, -1, 0, -1, 1, 1, 2, 3]) ➞ 0 find_fulcrum([8, 8, 8, 8]) ➞ -1"
   ]
  },
  {
   "cell_type": "code",
   "execution_count": 44,
   "id": "23dc9cfa",
   "metadata": {},
   "outputs": [],
   "source": [
    "def find_fulcrum(l):\n",
    "    output=-1\n",
    "    for i in l:\n",
    "        ind=l.index(i)\n",
    "        if(sum(l[:ind])==sum(l[ind+1:])):\n",
    "            output=ind\n",
    "            break\n",
    "    print(output)\n",
    "        \n",
    "        \n",
    "        "
   ]
  },
  {
   "cell_type": "code",
   "execution_count": 45,
   "id": "d658833c",
   "metadata": {},
   "outputs": [
    {
     "name": "stdout",
     "output_type": "stream",
     "text": [
      "2\n"
     ]
    }
   ],
   "source": [
    "find_fulcrum([1, 2, 4, 9, 10, -10, -9, 3])"
   ]
  },
  {
   "cell_type": "code",
   "execution_count": 46,
   "id": "06b7c141",
   "metadata": {},
   "outputs": [
    {
     "name": "stdout",
     "output_type": "stream",
     "text": [
      "1\n"
     ]
    }
   ],
   "source": [
    "find_fulcrum([9, 1, 9])"
   ]
  },
  {
   "cell_type": "code",
   "execution_count": 47,
   "id": "f5ddc0ec",
   "metadata": {},
   "outputs": [
    {
     "name": "stdout",
     "output_type": "stream",
     "text": [
      "2\n"
     ]
    }
   ],
   "source": [
    "find_fulcrum([7, -1, 0, -1, 1, 1, 2, 3])"
   ]
  },
  {
   "cell_type": "code",
   "execution_count": 48,
   "id": "9be0066a",
   "metadata": {},
   "outputs": [
    {
     "name": "stdout",
     "output_type": "stream",
     "text": [
      "-1\n"
     ]
    }
   ],
   "source": [
    "find_fulcrum([8, 8, 8, 8]) "
   ]
  },
  {
   "cell_type": "code",
   "execution_count": 49,
   "id": "6f0e8185",
   "metadata": {},
   "outputs": [
    {
     "name": "stdout",
     "output_type": "stream",
     "text": [
      "3\n"
     ]
    }
   ],
   "source": [
    "find_fulcrum([3, 1, 5, 2, 4, 6, -1])"
   ]
  },
  {
   "cell_type": "markdown",
   "id": "27e0be34",
   "metadata": {},
   "source": [
    "4. Given a list of integers representing the color of each sock, determine how\n",
    "many pairs of socks with matching colors there are. For example, there are 7\n",
    "socks with colors [1, 2, 1, 2, 1, 3, 2]. There is one pair of color 1 and one of\n",
    "color 2. There are three odd socks left, one of each color. The number of\n",
    "pairs is 2.\n",
    "Create a function that returns an integer representing the number of matching\n",
    "pairs of socks that are available."
   ]
  },
  {
   "cell_type": "code",
   "execution_count": 51,
   "id": "62376efa",
   "metadata": {},
   "outputs": [],
   "source": [
    "def sock_merchant(l):\n",
    "    paired_sock={}\n",
    "    output=0\n",
    "    for i in l:\n",
    "        if i in paired_sock:\n",
    "            paired_sock[i]+=1\n",
    "            \n",
    "        else:\n",
    "            paired_sock[i]=1\n",
    "    for i in paired_sock.values():\n",
    "        output+=i//2\n",
    "    print(output)"
   ]
  },
  {
   "cell_type": "code",
   "execution_count": 52,
   "id": "4e6fee17",
   "metadata": {},
   "outputs": [
    {
     "name": "stdout",
     "output_type": "stream",
     "text": [
      "3\n"
     ]
    }
   ],
   "source": [
    "sock_merchant([10, 20, 20, 10, 10, 30, 50, 10, 20])"
   ]
  },
  {
   "cell_type": "code",
   "execution_count": 53,
   "id": "464c8b9e",
   "metadata": {},
   "outputs": [
    {
     "name": "stdout",
     "output_type": "stream",
     "text": [
      "4\n"
     ]
    }
   ],
   "source": [
    "sock_merchant([50, 20, 30, 90, 30, 20, 50, 20, 90])"
   ]
  },
  {
   "cell_type": "code",
   "execution_count": 54,
   "id": "1174bcf6",
   "metadata": {},
   "outputs": [
    {
     "name": "stdout",
     "output_type": "stream",
     "text": [
      "0\n"
     ]
    }
   ],
   "source": [
    "sock_merchant([])"
   ]
  },
  {
   "cell_type": "markdown",
   "id": "8d4bbfe1",
   "metadata": {},
   "source": [
    "5. Create a function that takes a string containing integers as well as other characters and return the sum of the negative integers only.\n",
    "Examples:\n",
    "negative_sum(\"-12 13%14&-11\") ➞ -23\n",
    " -12 + -11 = -23\n",
    "negative_sum(\"22 13%14&-11-22 13 12\") ➞ -33\n",
    " -11 + -22 = -33"
   ]
  },
  {
   "cell_type": "code",
   "execution_count": 57,
   "id": "094f7aa6",
   "metadata": {},
   "outputs": [],
   "source": [
    "import re\n",
    "def negative_sum(s):\n",
    "    result=[int(d) for d in re.findall(r'-\\d+',s)]\n",
    "    print(result)\n",
    "    return sum(result)"
   ]
  },
  {
   "cell_type": "code",
   "execution_count": 58,
   "id": "f7fa2878",
   "metadata": {},
   "outputs": [
    {
     "name": "stdout",
     "output_type": "stream",
     "text": [
      "[-12, -11]\n"
     ]
    },
    {
     "data": {
      "text/plain": [
       "-23"
      ]
     },
     "execution_count": 58,
     "metadata": {},
     "output_type": "execute_result"
    }
   ],
   "source": [
    "\n",
    "negative_sum('-12 13%14&-11')"
   ]
  },
  {
   "cell_type": "code",
   "execution_count": 59,
   "id": "bd17a0c2",
   "metadata": {},
   "outputs": [
    {
     "name": "stdout",
     "output_type": "stream",
     "text": [
      "[-11, -22]\n"
     ]
    },
    {
     "data": {
      "text/plain": [
       "-33"
      ]
     },
     "execution_count": 59,
     "metadata": {},
     "output_type": "execute_result"
    }
   ],
   "source": [
    "negative_sum(\"22 13%14&-11-22 13 12\")"
   ]
  },
  {
   "cell_type": "code",
   "execution_count": null,
   "id": "a92056fe",
   "metadata": {},
   "outputs": [],
   "source": []
  }
 ],
 "metadata": {
  "kernelspec": {
   "display_name": "Python 3 (ipykernel)",
   "language": "python",
   "name": "python3"
  },
  "language_info": {
   "codemirror_mode": {
    "name": "ipython",
    "version": 3
   },
   "file_extension": ".py",
   "mimetype": "text/x-python",
   "name": "python",
   "nbconvert_exporter": "python",
   "pygments_lexer": "ipython3",
   "version": "3.9.12"
  }
 },
 "nbformat": 4,
 "nbformat_minor": 5
}
