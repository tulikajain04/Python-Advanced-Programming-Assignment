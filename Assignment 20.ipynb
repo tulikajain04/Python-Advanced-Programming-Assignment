{
 "cells": [
  {
   "cell_type": "raw",
   "id": "ec1afc4a",
   "metadata": {},
   "source": [
    "1. Create a function based on the input and output. Look at the examples, there is a pattern.\n",
    "Examples:\n",
    "secret(\"p.one.two.three\") ➞ \"<p class='one two three'></p>\"\n",
    "secret(\"p.one\") ➞ \"<p class='one'></p>\"\n",
    "secret(\"p.four.five\") ➞ \"<p class='four five'></p>\""
   ]
  },
  {
   "cell_type": "code",
   "execution_count": 1,
   "id": "93a3456e",
   "metadata": {},
   "outputs": [],
   "source": [
    "def secret(s):\n",
    "    s=s.split(\".\")\n",
    "    result=f'<{s[0]} class=\"{\" \".join(s[1:])}\"></{s[0]}>'\n",
    "    return result"
   ]
  },
  {
   "cell_type": "code",
   "execution_count": 2,
   "id": "eb0ea2d2",
   "metadata": {},
   "outputs": [
    {
     "data": {
      "text/plain": [
       "'<p class=\"one two three\"></p>'"
      ]
     },
     "execution_count": 2,
     "metadata": {},
     "output_type": "execute_result"
    }
   ],
   "source": [
    "secret(\"p.one.two.three\")"
   ]
  },
  {
   "cell_type": "code",
   "execution_count": 3,
   "id": "d37d97c2",
   "metadata": {},
   "outputs": [
    {
     "data": {
      "text/plain": [
       "'<p class=\"one\"></p>'"
      ]
     },
     "execution_count": 3,
     "metadata": {},
     "output_type": "execute_result"
    }
   ],
   "source": [
    "secret(\"p.one\")"
   ]
  },
  {
   "cell_type": "code",
   "execution_count": 4,
   "id": "e8b53114",
   "metadata": {},
   "outputs": [
    {
     "data": {
      "text/plain": [
       "'<p class=\"four five\"></p>'"
      ]
     },
     "execution_count": 4,
     "metadata": {},
     "output_type": "execute_result"
    }
   ],
   "source": [
    "secret(\"p.four.five\")"
   ]
  },
  {
   "cell_type": "raw",
   "id": "0f7489b3",
   "metadata": {},
   "source": [
    "2. Create a function which counts how many lone 1s appear in a given number. Lone means the number doesn't appear twice or more in a row.\n",
    "Examples:\n",
    "count_lone_ones(101) ➞ 2\n",
    "count_lone_ones(1191) ➞ 1\n",
    "count_lone_ones(1111) ➞ 0\n",
    "count_lone_ones(462) ➞ 0"
   ]
  },
  {
   "cell_type": "code",
   "execution_count": 8,
   "id": "d71de8a0",
   "metadata": {},
   "outputs": [],
   "source": [
    "def count_lone_ones(num):\n",
    "    count=0\n",
    "    l=[int(i) for i in str(num)]\n",
    "    if(l[0]==1 and l[1]!=1): count+=1\n",
    "    if(l[-2]!=1 and l[-1]==1): count+=1\n",
    "    for i in range(1,len(l)-2):\n",
    "        if(l[i]==1):\n",
    "            if(l[i-1]!=1 and l[i+1]!=1):\n",
    "                count+=1\n",
    "    return count"
   ]
  },
  {
   "cell_type": "code",
   "execution_count": 9,
   "id": "1cf62057",
   "metadata": {},
   "outputs": [
    {
     "data": {
      "text/plain": [
       "2"
      ]
     },
     "execution_count": 9,
     "metadata": {},
     "output_type": "execute_result"
    }
   ],
   "source": [
    "count_lone_ones(101)"
   ]
  },
  {
   "cell_type": "code",
   "execution_count": 10,
   "id": "2b6b8ba3",
   "metadata": {},
   "outputs": [
    {
     "data": {
      "text/plain": [
       "1"
      ]
     },
     "execution_count": 10,
     "metadata": {},
     "output_type": "execute_result"
    }
   ],
   "source": [
    "count_lone_ones(1191)"
   ]
  },
  {
   "cell_type": "code",
   "execution_count": 11,
   "id": "e5df01a2",
   "metadata": {},
   "outputs": [
    {
     "data": {
      "text/plain": [
       "0"
      ]
     },
     "execution_count": 11,
     "metadata": {},
     "output_type": "execute_result"
    }
   ],
   "source": [
    "count_lone_ones(1111)"
   ]
  },
  {
   "cell_type": "code",
   "execution_count": 12,
   "id": "b734a6ed",
   "metadata": {},
   "outputs": [
    {
     "data": {
      "text/plain": [
       "0"
      ]
     },
     "execution_count": 12,
     "metadata": {},
     "output_type": "execute_result"
    }
   ],
   "source": [
    "count_lone_ones(462)"
   ]
  },
  {
   "cell_type": "raw",
   "id": "98ece1b6",
   "metadata": {},
   "source": [
    "Q. 3. Write a method that accepts two integer parameters rows and cols. The output is a 2d array of numbers displayed in column-major order, meaning the numbers shown increase sequentially down each column and wrap to the top of the next column to the right once the bottom of the current column is reached."
   ]
  },
  {
   "cell_type": "code",
   "execution_count": 15,
   "id": "230f805a",
   "metadata": {},
   "outputs": [],
   "source": [
    "def printGrid(r,c):\n",
    "    r,c=c,r\n",
    "    a=[]\n",
    "    b=1\n",
    "    for i in range(r):\n",
    "        col=[]\n",
    "        for j in range(c):\n",
    "            col.append(b)\n",
    "            b+=1\n",
    "        a.append(col)\n",
    "    l2=[[r[i] for r in a] for i in range(len(a[0]))]\n",
    "    return l2"
   ]
  },
  {
   "cell_type": "code",
   "execution_count": 16,
   "id": "ac7dc3ce",
   "metadata": {},
   "outputs": [
    {
     "data": {
      "text/plain": [
       "[[1, 4, 7, 10, 13, 16], [2, 5, 8, 11, 14, 17], [3, 6, 9, 12, 15, 18]]"
      ]
     },
     "execution_count": 16,
     "metadata": {},
     "output_type": "execute_result"
    }
   ],
   "source": [
    "printGrid(3,6)"
   ]
  },
  {
   "cell_type": "code",
   "execution_count": 17,
   "id": "53861dd3",
   "metadata": {},
   "outputs": [
    {
     "data": {
      "text/plain": [
       "[[1, 6, 11], [2, 7, 12], [3, 8, 13], [4, 9, 14], [5, 10, 15]]"
      ]
     },
     "execution_count": 17,
     "metadata": {},
     "output_type": "execute_result"
    }
   ],
   "source": [
    "printGrid(5,3)"
   ]
  },
  {
   "cell_type": "code",
   "execution_count": 18,
   "id": "ebd4f8ae",
   "metadata": {},
   "outputs": [
    {
     "data": {
      "text/plain": [
       "[[1], [2], [3], [4]]"
      ]
     },
     "execution_count": 18,
     "metadata": {},
     "output_type": "execute_result"
    }
   ],
   "source": [
    "printGrid(4,1)"
   ]
  },
  {
   "cell_type": "raw",
   "id": "3dceaa3c",
   "metadata": {},
   "source": [
    "Q.4. Given a list of integers, return the smallest positive integer not present in the list."
   ]
  },
  {
   "cell_type": "code",
   "execution_count": 19,
   "id": "9ec6f05b",
   "metadata": {},
   "outputs": [],
   "source": [
    "def min_miss_pos(l):\n",
    "    p=[i for i in range(1,11)]\n",
    "    for i in l:\n",
    "        if(i<0):\n",
    "            l.remove(i)\n",
    "    l=list(set(p).difference(l))\n",
    "    l.sort()\n",
    "    return l[0]\n",
    "    "
   ]
  },
  {
   "cell_type": "code",
   "execution_count": 20,
   "id": "fc3d5a8b",
   "metadata": {},
   "outputs": [
    {
     "data": {
      "text/plain": [
       "8"
      ]
     },
     "execution_count": 20,
     "metadata": {},
     "output_type": "execute_result"
    }
   ],
   "source": [
    "min_miss_pos([-2,6,4,5,7,-1,1,3,6,-1,9,10,2,2])"
   ]
  },
  {
   "cell_type": "code",
   "execution_count": 21,
   "id": "6ac4ae31",
   "metadata": {},
   "outputs": [
    {
     "data": {
      "text/plain": [
       "2"
      ]
     },
     "execution_count": 21,
     "metadata": {},
     "output_type": "execute_result"
    }
   ],
   "source": [
    "min_miss_pos([5,9,-2,0,1,3,9,3,8,9])"
   ]
  },
  {
   "cell_type": "code",
   "execution_count": 22,
   "id": "1c85cf67",
   "metadata": {},
   "outputs": [
    {
     "data": {
      "text/plain": [
       "1"
      ]
     },
     "execution_count": 22,
     "metadata": {},
     "output_type": "execute_result"
    }
   ],
   "source": [
    "min_miss_pos([0,4,4,-1,9,4,5,2,10,7,6,3,10,9])"
   ]
  },
  {
   "cell_type": "raw",
   "id": "7b564988",
   "metadata": {},
   "source": [
    "Q.5. Google is launching a network of autonomous pizza delivery drones and wants you to create a flexible rewards system (Pizza Points™) that can be tweaked in the future. The rules are simple: if a customer has made at least N orders of at least Y price, they get a FREE pizza!\n",
    "\n",
    "Create a function that takes a dictionary of customers, a minimum number of orders and a minimum order price. Return a list of customers that are eligible for a free pizza."
   ]
  },
  {
   "cell_type": "code",
   "execution_count": 23,
   "id": "120d6396",
   "metadata": {},
   "outputs": [],
   "source": [
    "def pizza_points(custmers,m_ord, m_price):\n",
    "    new=[]\n",
    "    for i in customers:\n",
    "        a=[j for j in customers[i] if(j>m_price)]\n",
    "        if(len(a)>=m_ord):\n",
    "            new.append(i)\n",
    "    return new\n",
    "customers= {\n",
    "  \"Batman\": [22, 30, 11, 17, 15, 52, 27, 12],\n",
    "  \"Spider-Man\": [5, 17, 30, 33, 40, 22, 26, 10, 11, 45]\n",
    "}"
   ]
  },
  {
   "cell_type": "code",
   "execution_count": 24,
   "id": "a22b92f2",
   "metadata": {},
   "outputs": [
    {
     "data": {
      "text/plain": [
       "['Spider-Man']"
      ]
     },
     "execution_count": 24,
     "metadata": {},
     "output_type": "execute_result"
    }
   ],
   "source": [
    "pizza_points(customers, 5, 20)"
   ]
  },
  {
   "cell_type": "code",
   "execution_count": 25,
   "id": "981d3395",
   "metadata": {},
   "outputs": [
    {
     "data": {
      "text/plain": [
       "['Batman', 'Spider-Man']"
      ]
     },
     "execution_count": 25,
     "metadata": {},
     "output_type": "execute_result"
    }
   ],
   "source": [
    "\n",
    "pizza_points(customers, 3, 10)"
   ]
  },
  {
   "cell_type": "code",
   "execution_count": null,
   "id": "67a8b756",
   "metadata": {},
   "outputs": [],
   "source": []
  },
  {
   "cell_type": "code",
   "execution_count": null,
   "id": "300b9fd0",
   "metadata": {},
   "outputs": [],
   "source": []
  }
 ],
 "metadata": {
  "kernelspec": {
   "display_name": "Python 3 (ipykernel)",
   "language": "python",
   "name": "python3"
  },
  "language_info": {
   "codemirror_mode": {
    "name": "ipython",
    "version": 3
   },
   "file_extension": ".py",
   "mimetype": "text/x-python",
   "name": "python",
   "nbconvert_exporter": "python",
   "pygments_lexer": "ipython3",
   "version": "3.9.12"
  }
 },
 "nbformat": 4,
 "nbformat_minor": 5
}
