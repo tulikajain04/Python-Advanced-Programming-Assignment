{
 "cells": [
  {
   "cell_type": "raw",
   "id": "7a6a2811",
   "metadata": {},
   "source": [
    "1. Given a sentence, return the number of words which have the same first and last letter.\n",
    "Examples:\n",
    "count_same_ends(\"Pop! goes the balloon\") ➞ 1\n",
    "count_same_ends(\"And the crowd goes wild!\") ➞ 0\n",
    "count_same_ends(\"No I am not in a gang.\") ➞ 1"
   ]
  },
  {
   "cell_type": "code",
   "execution_count": 4,
   "id": "31204c5b",
   "metadata": {},
   "outputs": [],
   "source": [
    "def count_same_ends(s):\n",
    "    #s1=s.split(' ')\n",
    "    sp='!@#$%^&*.'\n",
    "    s1=''\n",
    "    n=0\n",
    "    for i in s:\n",
    "        if(i not in sp):\n",
    "            s1+=i\n",
    "    s1=s1.split(\" \")\n",
    "    for i in s1:\n",
    "        if(i[0].lower()==i[-1].lower()):\n",
    "            if(len(i)!=1):\n",
    "                n+=1\n",
    "    return n"
   ]
  },
  {
   "cell_type": "code",
   "execution_count": 5,
   "id": "c12d5ea1",
   "metadata": {},
   "outputs": [
    {
     "data": {
      "text/plain": [
       "1"
      ]
     },
     "execution_count": 5,
     "metadata": {},
     "output_type": "execute_result"
    }
   ],
   "source": [
    "count_same_ends(\"Pop! goes the balloon\")"
   ]
  },
  {
   "cell_type": "code",
   "execution_count": 6,
   "id": "964960ce",
   "metadata": {},
   "outputs": [
    {
     "data": {
      "text/plain": [
       "0"
      ]
     },
     "execution_count": 6,
     "metadata": {},
     "output_type": "execute_result"
    }
   ],
   "source": [
    "count_same_ends(\"And the crowd goes wild!\")"
   ]
  },
  {
   "cell_type": "code",
   "execution_count": 7,
   "id": "11be9cd6",
   "metadata": {},
   "outputs": [
    {
     "data": {
      "text/plain": [
       "1"
      ]
     },
     "execution_count": 7,
     "metadata": {},
     "output_type": "execute_result"
    }
   ],
   "source": [
    "count_same_ends(\"No I am not in a gang.\")"
   ]
  },
  {
   "cell_type": "raw",
   "id": "5135fe6c",
   "metadata": {},
   "source": [
    "2. The Atbash cipher is an encryption method in which each letter of a word is replaced with its \"mirror\" letter in the alphabet: A <=> Z; B <=> Y; C <=> X; etc.\n",
    "Create a function that takes a string and applies the Atbash cipher to it.\n",
    "\n",
    "Examples:\n",
    "atbash(\"apple\") ➞ \"zkkov\"\n",
    "atbash(\"Hello world!\") ➞ \"Svool dliow!\"\n",
    "atbash(\"Christmas is the 25th of December\") ➞ \"Xsirhgnzh rh gsv 25gs lu Wvxvnyvi\""
   ]
  },
  {
   "cell_type": "code",
   "execution_count": 8,
   "id": "5d9ceef3",
   "metadata": {},
   "outputs": [],
   "source": [
    "def atbash(s):\n",
    "    al='abcdefghijklmnopqrstuvwxyz'\n",
    "    r_al='zyxwvutsrqponmlkjihgfedcba'\n",
    "    st=''\n",
    "    for i in s:\n",
    "        if(i not in \" !1234567890\"):\n",
    "            st+=r_al[al.index(i.lower())].upper() if(i.isupper()) else  r_al[al.index(i.lower())]\n",
    "        else:\n",
    "            st+=i\n",
    "    return st"
   ]
  },
  {
   "cell_type": "code",
   "execution_count": 9,
   "id": "9b495026",
   "metadata": {},
   "outputs": [
    {
     "data": {
      "text/plain": [
       "'zkkov'"
      ]
     },
     "execution_count": 9,
     "metadata": {},
     "output_type": "execute_result"
    }
   ],
   "source": [
    "atbash(\"apple\")"
   ]
  },
  {
   "cell_type": "code",
   "execution_count": 10,
   "id": "1e6d2458",
   "metadata": {},
   "outputs": [
    {
     "data": {
      "text/plain": [
       "'Svool dliow!'"
      ]
     },
     "execution_count": 10,
     "metadata": {},
     "output_type": "execute_result"
    }
   ],
   "source": [
    "atbash(\"Hello world!\")"
   ]
  },
  {
   "cell_type": "code",
   "execution_count": 11,
   "id": "e497ec21",
   "metadata": {},
   "outputs": [
    {
     "data": {
      "text/plain": [
       "'Xsirhgnzh rh gsv 25gs lu Wvxvnyvi'"
      ]
     },
     "execution_count": 11,
     "metadata": {},
     "output_type": "execute_result"
    }
   ],
   "source": [
    "atbash(\"Christmas is the 25th of December\")"
   ]
  },
  {
   "cell_type": "raw",
   "id": "b38a89ca",
   "metadata": {},
   "source": [
    "3. Create a class Employee that will take a full name as argument, as well as a set of none, one or more keywords. Each instance should have a name and a lastname attributes plus one more attribute for each of the keywords, if any.\n",
    "Examples:\n",
    "john = Employee(\"John Doe\")\n",
    "mary = Employee(\"Mary Major\", salary=120000)\n",
    "richard = Employee(\"Richard Roe\", salary=110000, height=178)\n",
    "giancarlo = Employee(\"Giancarlo Rossi\", salary=115000, height=182, nationality=\"Italian\")\n",
    "\n",
    "john.name ➞ \"John\"\n",
    "mary.lastname ➞ \"Major\"\n",
    "richard.height ➞ 178\n",
    "giancarlo.nationality ➞ \"Italian\"\n",
    "\n"
   ]
  },
  {
   "cell_type": "code",
   "execution_count": 2,
   "id": "3f671fdc",
   "metadata": {},
   "outputs": [
    {
     "name": "stdout",
     "output_type": "stream",
     "text": [
      "john.name -> \"John Doe\"\n",
      "mary.lastname -> \"Major\"\n",
      "richard.height -> \"178\"\n",
      "giancarlo.nationality -> \"Italian\"\n"
     ]
    }
   ],
   "source": [
    "class Employee:\n",
    "    def __init__(self,name=None, salary=None, height=None, nationality=None):\n",
    "        self.name=name\n",
    "        self.firstname=name.split(\" \")[0]\n",
    "        self.lastname=name.split(\" \")[1]\n",
    "        self.salary=salary\n",
    "        self.height=height\n",
    "        self.nationality=nationality\n",
    "john = Employee(\"John Doe\")\n",
    "mary = Employee(\"Mary Major\", salary=120000)\n",
    "richard = Employee(\"Richard Roe\", salary=110000, height=178)\n",
    "giancarlo = Employee(\"Giancarlo Rossi\", salary=115000, height=182, nationality=\"Italian\")\n",
    "print(f'john.name -> \"{john.name}\"')\n",
    "print(f'mary.lastname -> \"{mary.lastname}\"')\n",
    "print(f'richard.height -> \"{richard.height}\"')\n",
    "print(f'giancarlo.nationality -> \"{giancarlo.nationality}\"')"
   ]
  },
  {
   "cell_type": "raw",
   "id": "d015fae9",
   "metadata": {},
   "source": [
    "4. Create a function that determines whether each seat can \"see\" the front-stage. A number can \"see\" the front-stage if it is strictly greater than the number before it.\n",
    "Everyone can see the front-stage in the example below:\n",
    "\n",
    "# FRONT STAGE [[1, 2, 3, 2, 1, 1], [2, 4, 4, 3, 2, 2], [5, 5, 5, 5, 4, 4], [6, 6, 7, 6, 5, 5]]\n",
    "\n",
    "# Starting from the left, the 6 > 5 > 2 > 1, so all numbers can see.\n",
    "# 6 > 5 > 4 > 2 - so all numbers can see, etc.\n",
    "\n",
    "Not everyone can see the front-stage in the example below:\n",
    "\n",
    "# FRONT STAGE [[1, 2, 3, 2, 1, 1], [2, 4, 4, 3, 2, 2], [5, 5, 5, 10, 4, 4], [6, 6, 7, 6, 5, 5]]\n",
    "\n",
    "# The 10 is directly in front of the 6 and blocking its view.\n",
    "\n",
    "The function should return True if every number can see the front-stage, and False if even a single number cannot.\n",
    "\n",
    "Examples:\n",
    "can_see_stage([[1, 2, 3],[4, 5, 6],[7, 8, 9]]) ➞ True\n",
    "can_see_stage([[0, 0, 0],[1, 1, 1],[2, 2, 2]]) ➞ True\n",
    "can_see_stage([[2, 0, 0],[1, 1, 1],[2, 2, 2]]) ➞ False\n",
    "can_see_stage([[1, 0, 0],[1, 1, 1],[2, 2, 2]]) ➞ False\n",
    "\n",
    "# Number must be strictly smaller than\n",
    "# the number directly behind it."
   ]
  },
  {
   "cell_type": "code",
   "execution_count": 5,
   "id": "79592183",
   "metadata": {},
   "outputs": [],
   "source": [
    "def can_see_stage(l):\n",
    "        l1=[]\n",
    "        for i in range(len(l)):\n",
    "            temp_l=[]\n",
    "            for j in range(len(l[i])):\n",
    "                temp_l.append(l[j][i])\n",
    "            l1.append(temp_l)\n",
    "        result=True\n",
    "        for i in l1:\n",
    "            if((i!=sorted(i)) or( len(i)!=len(set(i)))):\n",
    "                result=False\n",
    "                break\n",
    "        return result"
   ]
  },
  {
   "cell_type": "code",
   "execution_count": 6,
   "id": "125e26af",
   "metadata": {},
   "outputs": [
    {
     "data": {
      "text/plain": [
       "True"
      ]
     },
     "execution_count": 6,
     "metadata": {},
     "output_type": "execute_result"
    }
   ],
   "source": [
    "can_see_stage([[1, 2, 3],[4, 5, 6],[7, 8, 9]])"
   ]
  },
  {
   "cell_type": "code",
   "execution_count": 7,
   "id": "a2ec8970",
   "metadata": {},
   "outputs": [
    {
     "data": {
      "text/plain": [
       "True"
      ]
     },
     "execution_count": 7,
     "metadata": {},
     "output_type": "execute_result"
    }
   ],
   "source": [
    "can_see_stage([[0, 0, 0], [1, 1, 1], [2, 2, 2]])"
   ]
  },
  {
   "cell_type": "code",
   "execution_count": 8,
   "id": "f07a5495",
   "metadata": {},
   "outputs": [
    {
     "data": {
      "text/plain": [
       "False"
      ]
     },
     "execution_count": 8,
     "metadata": {},
     "output_type": "execute_result"
    }
   ],
   "source": [
    "can_see_stage([[2, 0, 0], [1, 1, 1], [2, 2, 2]])"
   ]
  },
  {
   "cell_type": "code",
   "execution_count": 9,
   "id": "cf312ab3",
   "metadata": {},
   "outputs": [
    {
     "data": {
      "text/plain": [
       "False"
      ]
     },
     "execution_count": 9,
     "metadata": {},
     "output_type": "execute_result"
    }
   ],
   "source": [
    "can_see_stage([[1, 0, 0], [1, 1, 1], [2, 2, 2]])"
   ]
  },
  {
   "cell_type": "raw",
   "id": "47d3da95",
   "metadata": {},
   "source": [
    "5. Create a Pizza class with the attributes order_number and ingredients (which is given as a list). Only the ingredients will be given as input.\n",
    "You should also make it so that its possible to choose a ready made pizza flavour rather than typing out the ingredients manually! As well as creating this Pizza class, hard-code the following pizza flavours.\n",
    "\n",
    "          \n",
    "Name\tIngredients\n",
    "hawaiian\tham, pineapple\n",
    "meat_festival\tbeef, meatball, bacon\n",
    "garden_feast\tspinach, olives, mushroom\n",
    "Examples:\n",
    "\n",
    "p1 = Pizza([\"bacon\", \"parmesan\", \"ham\"]) # order 1\n",
    "p2 = Pizza.garden_feast() # order 2\n",
    "p1.ingredients ➞ [\"bacon\", \"parmesan\", \"ham\"]\n",
    "p2.ingredients ➞ [\"spinach\", \"olives\", \"mushroom\"]\n",
    "p1.order_number ➞ 1\n",
    "p2.order_number ➞ 2"
   ]
  },
  {
   "cell_type": "code",
   "execution_count": null,
   "id": "ac82d1d5",
   "metadata": {},
   "outputs": [],
   "source": []
  }
 ],
 "metadata": {
  "kernelspec": {
   "display_name": "Python 3 (ipykernel)",
   "language": "python",
   "name": "python3"
  },
  "language_info": {
   "codemirror_mode": {
    "name": "ipython",
    "version": 3
   },
   "file_extension": ".py",
   "mimetype": "text/x-python",
   "name": "python",
   "nbconvert_exporter": "python",
   "pygments_lexer": "ipython3",
   "version": "3.9.12"
  }
 },
 "nbformat": 4,
 "nbformat_minor": 5
}
