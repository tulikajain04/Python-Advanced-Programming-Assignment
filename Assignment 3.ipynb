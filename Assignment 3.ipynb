{
 "cells": [
  {
   "cell_type": "markdown",
   "id": "7e126391",
   "metadata": {},
   "source": [
    "### 1.Create a function to perform basic arithmetic operations that includes addition, subtraction, multiplication and division on a string number (e.g. \"12 + 24\" or \"23 - 21\" or \"12 // 12\" or \"12 * 21\").\n",
    "Here, we have 1 followed by a space, operator followed by another space and 2. For the challenge, we are going to have only two numbers between 1 valid operator. The return value should be a number.\n",
    "eval() is not allowed. In case of division, whenever the second number equals \"0\" return -1.\n",
    "For example: \"15 // 0\"  ➞ -1\n",
    "Examples:\n",
    "arithmetic_operation(\"12 + 12\") ➞ 24 // 12 + 12 = 24\n",
    "arithmetic_operation(\"12 - 12\") ➞ 24 // 12 - 12 = 0\n",
    "arithmetic_operation(\"12 * 12\") ➞ 144 // 12 * 12 = 144\n",
    "arithmetic_operation(\"12 // 0\") ➞ -1 // 12 / 0 = -1"
   ]
  },
  {
   "cell_type": "code",
   "execution_count": 38,
   "id": "e431a080",
   "metadata": {},
   "outputs": [],
   "source": [
    "def arithmetic_operation(s):\n",
    "    l=s.split(' ')\n",
    "    output=0\n",
    "    operator=['+','-','*','/']\n",
    "    for i in l:\n",
    "        if(int(l[2])>0):\n",
    "            if(i=='+'):\n",
    "                output=(int(l[0])+int(l[2]))\n",
    "            elif(i=='-'):\n",
    "                output=(int(l[0])-int(l[2]))\n",
    "            elif(i=='*'):\n",
    "                output=(int(l[0])*int(l[2]))\n",
    "            elif(i=='*'):\n",
    "                output=(int(l[0])/int(l[2]))\n",
    "        else:\n",
    "            output=-1\n",
    "    print(f'arithmetic_operation({s}) -> {output}')\n",
    "        "
   ]
  },
  {
   "cell_type": "code",
   "execution_count": 39,
   "id": "c17613a3",
   "metadata": {},
   "outputs": [
    {
     "name": "stdout",
     "output_type": "stream",
     "text": [
      "arithmetic_operation(12 + 12) -> 24\n"
     ]
    }
   ],
   "source": [
    "arithmetic_operation(\"12 + 12\")"
   ]
  },
  {
   "cell_type": "code",
   "execution_count": 40,
   "id": "4973a3aa",
   "metadata": {},
   "outputs": [
    {
     "name": "stdout",
     "output_type": "stream",
     "text": [
      "arithmetic_operation(12 - 12) -> 0\n"
     ]
    }
   ],
   "source": [
    " arithmetic_operation(\"12 - 12\")"
   ]
  },
  {
   "cell_type": "code",
   "execution_count": 41,
   "id": "cbf25d68",
   "metadata": {},
   "outputs": [
    {
     "name": "stdout",
     "output_type": "stream",
     "text": [
      "arithmetic_operation(12 * 12) -> 144\n"
     ]
    }
   ],
   "source": [
    "arithmetic_operation(\"12 * 12\")"
   ]
  },
  {
   "cell_type": "code",
   "execution_count": 42,
   "id": "ab00c91a",
   "metadata": {},
   "outputs": [
    {
     "name": "stdout",
     "output_type": "stream",
     "text": [
      "arithmetic_operation(12 // 0) -> -1\n"
     ]
    }
   ],
   "source": [
    "arithmetic_operation(\"12 // 0\")"
   ]
  },
  {
   "cell_type": "markdown",
   "id": "a2b668b5",
   "metadata": {},
   "source": [
    "### 2.Write a function that takes the coordinates of three points in the form of a 2d array and returns the perimeter of the triangle. The given points are the vertices of a triangle on a two-dimensional plane.\n",
    "Examples:\n",
    "perimeter( [ [15, 7], [5, 22], [11, 1] ] ) ➞ 47.08\n",
    "perimeter( [ [0, 0], [0, 1], [1, 0] ] ) ➞ 3.42\n",
    "perimeter( [ [-10, -10], [10, 10 ], [-10, 10] ] ) ➞ 68.28"
   ]
  },
  {
   "cell_type": "code",
   "execution_count": 10,
   "id": "c234d3e9",
   "metadata": {},
   "outputs": [],
   "source": [
    "import math\n",
    "def perimeter(l):\n",
    "    x=l[0]\n",
    "    y=l[1]\n",
    "    z=l[2]\n",
    "    a=math.sqrt((y[0]-x[0])**2+(y[1]-x[1])**2)\n",
    "    b=math.sqrt((z[0]-y[0])**2+(z[1]-y[1])**2)\n",
    "    c=math.sqrt((z[0]-x[0])**2+(z[1]-x[1])**2)\n",
    "    p=round(a+b+c,2)\n",
    "    print(f'perimeter({l}) -> {p}')"
   ]
  },
  {
   "cell_type": "code",
   "execution_count": 11,
   "id": "81332031",
   "metadata": {},
   "outputs": [
    {
     "name": "stdout",
     "output_type": "stream",
     "text": [
      "perimeter([[15, 7], [5, 22], [11, 1]]) -> 47.08\n"
     ]
    }
   ],
   "source": [
    "perimeter( [ [15, 7], [5, 22], [11, 1] ] )"
   ]
  },
  {
   "cell_type": "code",
   "execution_count": 12,
   "id": "0bacdff0",
   "metadata": {},
   "outputs": [
    {
     "name": "stdout",
     "output_type": "stream",
     "text": [
      "perimeter([[0, 0], [0, 1], [1, 0]]) -> 3.41\n"
     ]
    }
   ],
   "source": [
    "perimeter( [ [0, 0], [0, 1], [1, 0] ] )"
   ]
  },
  {
   "cell_type": "code",
   "execution_count": 13,
   "id": "3946e48e",
   "metadata": {},
   "outputs": [
    {
     "name": "stdout",
     "output_type": "stream",
     "text": [
      "perimeter([[-10, -10], [10, 10], [-10, 10]]) -> 68.28\n"
     ]
    }
   ],
   "source": [
    "perimeter( [ [-10, -10], [10, 10 ], [-10, 10] ] )"
   ]
  },
  {
   "cell_type": "markdown",
   "id": "e3062e2b",
   "metadata": {},
   "source": [
    "### 3. A city skyline can be represented as a 2-D list with 1s representing buildings. In the example below, the height of the tallest building is 4 (second-most right column).\n",
    "\n",
    "[[0, 0, 0, 0, 0, 0],[0, 0, 0, 0, 1, 0],[0, 0, 1, 0, 1, 0],[0, 1, 1, 1, 1, 0],[1, 1, 1, 1, 1, 1]]\n",
    "\n",
    "Create a function that takes a skyline (2-D list of 0's and 1's) and returns the height of the tallest skyscraper.\n",
    "\n",
    "Examples\n",
    "\n",
    "tallest_skyscraper([[0, 0, 0, 0],[0, 1, 0, 0],[0, 1, 1, 0],[1, 1, 1, 1]]) ➞ 3\n",
    "\n",
    "tallest_skyscraper([[0, 1, 0, 0],[0, 1, 0, 0],[0, 1, 1, 0],[1, 1, 1, 1]]) ➞ 4\n",
    "\n",
    "tallest_skyscraper([[0, 0, 0, 0],[0, 0, 0, 0],[1, 1, 1, 0],[1, 1, 1, 1]]) ➞ 2"
   ]
  },
  {
   "cell_type": "code",
   "execution_count": null,
   "id": "307861d1",
   "metadata": {},
   "outputs": [],
   "source": []
  },
  {
   "cell_type": "markdown",
   "id": "5984f606",
   "metadata": {},
   "source": [
    "### 4. A financial institution provides professional services to banks and claims\n",
    "charges from the customers based on the number of man-days provided.\n",
    "Internally, it has set a scheme to motivate and reward staff to meet and\n",
    "exceed targeted billable utilization and revenues by paying a bonus for each\n",
    "day claimed from customers in excess of a threshold target.\n",
    "This quarterly scheme is calculated with a threshold target of 32 days per\n",
    "quarter, and the incentive payment for each billable day in excess of such\n",
    "threshold target is shown as follows:\n",
    "Days Bonus\n",
    "0 to 32 days Zero\n",
    "33 to 40 days SGD $ 325 per billable day\n",
    "41 to 48 days SGD $ 550 per billable day\n",
    "Greater than 48 days SGD $ 600 per billable day\n",
    "\n",
    "Please note that incentive payment is calculated progressively. As an\n",
    "example, if an employee reached total billable days of 45 in a quarter, his/her\n",
    "incentive payment is computed as follows:\n",
    "32 * 0 + 8 * 325 + 5 * 550 = 5350\n",
    "Write a function to read the billable days of an employee and return the bonus\n",
    "he/she has obtained in that quarter.\n",
    "Examples\n",
    "bonus(15) ➞ 0\n",
    "bonus(37) ➞ 1625\n",
    "bonus(50) ➞ 8200"
   ]
  },
  {
   "cell_type": "code",
   "execution_count": 22,
   "id": "02655c0d",
   "metadata": {},
   "outputs": [],
   "source": [
    "def bonus(n):\n",
    "    if(n<=32):\n",
    "        b=0\n",
    "    elif(n>32 & n<=40):\n",
    "        b=(n-32)*325\n",
    "    elif(n>40 & n<=48):\n",
    "        b=8*325+(n-40)*550\n",
    "    elif(n>48):\n",
    "        b=8 * 325 + 8 * 550 + (n - 48) * 600\n",
    "    print(f'bonus({n}) -> {b}')"
   ]
  },
  {
   "cell_type": "code",
   "execution_count": 16,
   "id": "773e38b1",
   "metadata": {},
   "outputs": [
    {
     "name": "stdout",
     "output_type": "stream",
     "text": [
      "bonus(15) -> 0\n"
     ]
    }
   ],
   "source": [
    "bonus(15)"
   ]
  },
  {
   "cell_type": "code",
   "execution_count": 17,
   "id": "c11aa735",
   "metadata": {},
   "outputs": [
    {
     "name": "stdout",
     "output_type": "stream",
     "text": [
      "bonus(37) -> 1625\n"
     ]
    }
   ],
   "source": [
    "bonus(37)"
   ]
  },
  {
   "cell_type": "code",
   "execution_count": 23,
   "id": "137d25c3",
   "metadata": {},
   "outputs": [
    {
     "name": "stdout",
     "output_type": "stream",
     "text": [
      "bonus(50) -> 5850\n"
     ]
    }
   ],
   "source": [
    "bonus(50)"
   ]
  },
  {
   "cell_type": "code",
   "execution_count": null,
   "id": "0786e7a2",
   "metadata": {},
   "outputs": [],
   "source": []
  },
  {
   "cell_type": "markdown",
   "id": "234e8b68",
   "metadata": {},
   "source": [
    "### 5. A number is said to be Disarium if the sum of its digits raised to their respective positions is the number itself.\n",
    "Create a function that determines whether a number is a Disarium or not.\n",
    "\n",
    "Examples\n",
    "\n",
    "is_disarium(75) ➞ False\n",
    "\n",
    "7^1 + 5^2 = 7 + 25 = 32\n",
    "is_disarium(135) ➞ True\n",
    "\n",
    "1^1 + 3^2 + 5^3 = 1 + 9 + 125 = 135\n",
    "is_disarium(544) ➞ False\n",
    "\n",
    "is_disarium(518) ➞ True\n",
    "\n",
    "is_disarium(466) ➞ False\n",
    "\n",
    "is_disarium(8) ➞ True"
   ]
  },
  {
   "cell_type": "code",
   "execution_count": 37,
   "id": "363936d7",
   "metadata": {},
   "outputs": [],
   "source": [
    "def is_disarium(n):\n",
    "    a=str(n)\n",
    "    num=0\n",
    "    for i in a:\n",
    "        num+=int(i)**((a.index(i))+1)\n",
    "    if(num==n):\n",
    "        print(f'is_disarium({n}) -> True')\n",
    "    else:\n",
    "        print(f'is_disarium({n}) -> False')"
   ]
  },
  {
   "cell_type": "code",
   "execution_count": 38,
   "id": "7abc1a62",
   "metadata": {},
   "outputs": [
    {
     "name": "stdout",
     "output_type": "stream",
     "text": [
      "is_disarium(518) -> True\n"
     ]
    }
   ],
   "source": [
    "is_disarium(518)"
   ]
  },
  {
   "cell_type": "code",
   "execution_count": 39,
   "id": "d9f42c26",
   "metadata": {},
   "outputs": [
    {
     "name": "stdout",
     "output_type": "stream",
     "text": [
      "is_disarium(75) -> False\n"
     ]
    }
   ],
   "source": [
    "is_disarium(75)"
   ]
  },
  {
   "cell_type": "code",
   "execution_count": 40,
   "id": "1716646c",
   "metadata": {},
   "outputs": [
    {
     "name": "stdout",
     "output_type": "stream",
     "text": [
      "is_disarium(466) -> False\n"
     ]
    }
   ],
   "source": [
    "is_disarium(466)"
   ]
  },
  {
   "cell_type": "code",
   "execution_count": 41,
   "id": "af6fd254",
   "metadata": {},
   "outputs": [
    {
     "name": "stdout",
     "output_type": "stream",
     "text": [
      "is_disarium(8) -> True\n"
     ]
    }
   ],
   "source": [
    "is_disarium(8)"
   ]
  },
  {
   "cell_type": "code",
   "execution_count": null,
   "id": "9f3418d6",
   "metadata": {},
   "outputs": [],
   "source": []
  }
 ],
 "metadata": {
  "kernelspec": {
   "display_name": "Python 3 (ipykernel)",
   "language": "python",
   "name": "python3"
  },
  "language_info": {
   "codemirror_mode": {
    "name": "ipython",
    "version": 3
   },
   "file_extension": ".py",
   "mimetype": "text/x-python",
   "name": "python",
   "nbconvert_exporter": "python",
   "pygments_lexer": "ipython3",
   "version": "3.9.12"
  }
 },
 "nbformat": 4,
 "nbformat_minor": 5
}
