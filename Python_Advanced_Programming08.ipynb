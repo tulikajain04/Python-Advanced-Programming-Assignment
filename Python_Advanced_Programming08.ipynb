{
 "cells": [
  {
   "cell_type": "markdown",
   "id": "2a26f1af",
   "metadata": {},
   "source": [
    "1. Given a sentence as txt, return True if any two adjacent words have this\n",
    "property: One word ends with a vowel, while the word immediately after\n",
    "begins with a vowel (a e i o u).\n",
    "Examples\n",
    "vowel_links(\"a very large appliance&quot\") ➞ True\n",
    "vowel_links(\"go to edabit\") ➞ True\n",
    "vowel_links(\"an open fire\") ➞ False\n",
    "vowel_links(\"a sudden applause\") ➞ False\n"
   ]
  },
  {
   "cell_type": "code",
   "execution_count": 15,
   "id": "5e35d2fd",
   "metadata": {},
   "outputs": [],
   "source": [
    "def vowel_links(txt):\n",
    "    vow=\"aeiou\"\n",
    "    a=txt.split(\" \")\n",
    "    found=\"False\"\n",
    "    i=0\n",
    "    j=0\n",
    "    while(i<len(a)-1):\n",
    "        j=i+1\n",
    "        a1=a[i][-1]\n",
    "        a2=a[j][0]\n",
    "        if(a1 in vow and a2 in vow):\n",
    "            found=\"TRUE\"\n",
    "        i=i+1\n",
    "        j=j+1\n",
    "    return found\n",
    "        "
   ]
  },
  {
   "cell_type": "code",
   "execution_count": 16,
   "id": "b91ece94",
   "metadata": {},
   "outputs": [
    {
     "data": {
      "text/plain": [
       "'TRUE'"
      ]
     },
     "execution_count": 16,
     "metadata": {},
     "output_type": "execute_result"
    }
   ],
   "source": [
    "vowel_links(\"a very large appliance\")\n",
    "    "
   ]
  },
  {
   "cell_type": "code",
   "execution_count": 17,
   "id": "fb92db5c",
   "metadata": {},
   "outputs": [
    {
     "data": {
      "text/plain": [
       "'TRUE'"
      ]
     },
     "execution_count": 17,
     "metadata": {},
     "output_type": "execute_result"
    }
   ],
   "source": [
    "vowel_links(\"go to edabit\")"
   ]
  },
  {
   "cell_type": "code",
   "execution_count": 18,
   "id": "b975652c",
   "metadata": {},
   "outputs": [
    {
     "data": {
      "text/plain": [
       "'False'"
      ]
     },
     "execution_count": 18,
     "metadata": {},
     "output_type": "execute_result"
    }
   ],
   "source": [
    "vowel_links(\"an open fire\")"
   ]
  },
  {
   "cell_type": "code",
   "execution_count": 19,
   "id": "58ac15e8",
   "metadata": {},
   "outputs": [
    {
     "data": {
      "text/plain": [
       "'False'"
      ]
     },
     "execution_count": 19,
     "metadata": {},
     "output_type": "execute_result"
    }
   ],
   "source": [
    "vowel_links(\"a sudden applause\")"
   ]
  },
  {
   "cell_type": "raw",
   "id": "9c4726c5",
   "metadata": {},
   "source": [
    "2. You are given three inputs: a string, one letter, and a second letter.\n",
    "Write a function that returns True if every instance of the first letter occurs\n",
    "before every instance of the second letter.\n",
    "Examples\n",
    "first_before_second(\"a rabbit jumps joyfully\", \"a\", \"j\") ➞ True\n",
    "# Every instance of &quot;a&quot; occurs before every instance of &quot;j&quot;.\n",
    "first_before_second(\"knaves knew about waterfalls\", \"k\", \"w\") ➞ True\n",
    "first_before_second(\"happy birthday\", \"a\", \"y\") ➞ False\n",
    "# The &quot;a&quot; in &quot;birthday&quot; occurs after the &quot;y&quot; in &quot;happy&quot;.\n",
    "first_before_second(\"precarious kangaroos\", \"k\", \"a\") ➞ False"
   ]
  },
  {
   "cell_type": "code",
   "execution_count": 38,
   "id": "239be9f6",
   "metadata": {},
   "outputs": [],
   "source": [
    "def find_idx(txt,a):\n",
    "    l=[]\n",
    "    for i in range(len(txt)):\n",
    "        if(txt[i]==a):\n",
    "            l.append(i)\n",
    "    return l\n",
    "def idx_diff(l1,l2):\n",
    "    found=\"False\"\n",
    "    for i in l1:\n",
    "        for j in l2:\n",
    "            if(i<j):\n",
    "                found=\"True\"\n",
    "            else:\n",
    "                found=\"False\"\n",
    "            break\n",
    "    return found\n",
    "def first_before_second(txt,a,b):\n",
    "    idx1=find_idx(txt,a)\n",
    "    idx2=find_idx(txt,b)\n",
    "    return idx_diff(idx1,idx2)"
   ]
  },
  {
   "cell_type": "code",
   "execution_count": 39,
   "id": "82bd27b9",
   "metadata": {},
   "outputs": [
    {
     "data": {
      "text/plain": [
       "'True'"
      ]
     },
     "execution_count": 39,
     "metadata": {},
     "output_type": "execute_result"
    }
   ],
   "source": [
    "first_before_second(\"a rabbit jumps joyfully\", \"a\", \"j\")"
   ]
  },
  {
   "cell_type": "code",
   "execution_count": 40,
   "id": "ccdc44a2",
   "metadata": {},
   "outputs": [
    {
     "data": {
      "text/plain": [
       "'True'"
      ]
     },
     "execution_count": 40,
     "metadata": {},
     "output_type": "execute_result"
    }
   ],
   "source": [
    "first_before_second(\"knaves knew about waterfalls\", \"k\", \"w\")"
   ]
  },
  {
   "cell_type": "code",
   "execution_count": 41,
   "id": "5360375b",
   "metadata": {},
   "outputs": [
    {
     "data": {
      "text/plain": [
       "'False'"
      ]
     },
     "execution_count": 41,
     "metadata": {},
     "output_type": "execute_result"
    }
   ],
   "source": [
    "first_before_second(\"happy birthday\", \"a\", \"y\")"
   ]
  },
  {
   "cell_type": "code",
   "execution_count": 42,
   "id": "428c213f",
   "metadata": {},
   "outputs": [
    {
     "data": {
      "text/plain": [
       "'False'"
      ]
     },
     "execution_count": 42,
     "metadata": {},
     "output_type": "execute_result"
    }
   ],
   "source": [
    "first_before_second(\"precarious kangaroos\", \"k\", \"a\")"
   ]
  },
  {
   "cell_type": "raw",
   "id": "599119d6",
   "metadata": {},
   "source": [
    "3. Create a function that returns the characters from a list or string r on odd or\n",
    "even positions, depending on the specifier s. The specifier will be \"odd\" for\n",
    "items on odd positions (1, 3, 5, ...) and \"even\" for items on even positions (2,\n",
    "4, 6, ...).\n",
    "Examples\n",
    "char_at_pos([2, 4, 6, 8, 10], \"even\") ➞ [4, 8]\n",
    "# 4 &amp; 8 occupy the 2nd &amp; 4th positions\n",
    "char_at_pos(\"EDABIT\", \"odd\") ➞ \"EAI\";\n",
    "# &quot;E&quot;, &quot;A&quot; and &quot;I&quot; occupy the 1st, 3rd and 5th positions\n",
    "\n",
    "char_at_pos([\"A\", \"R\", \"B\", \"I\", \"T\", \"R\", \"A\", \"R\", \"I\", \"L\", \"Y\"], \"odd\") ➞ [\"A\",\n",
    "\"B\", \"T\", \"A\", \"I\", \"Y\"]"
   ]
  },
  {
   "cell_type": "code",
   "execution_count": 61,
   "id": "1bf6f151",
   "metadata": {},
   "outputs": [],
   "source": [
    "def char_at_pos(l,a):\n",
    "    l1=[]\n",
    "    if(a==\"even\"):\n",
    "        l1=l[1::2]\n",
    "    else:\n",
    "        l1=l[::2]\n",
    "    return l1"
   ]
  },
  {
   "cell_type": "code",
   "execution_count": 62,
   "id": "2947e530",
   "metadata": {},
   "outputs": [
    {
     "data": {
      "text/plain": [
       "[4, 8]"
      ]
     },
     "execution_count": 62,
     "metadata": {},
     "output_type": "execute_result"
    }
   ],
   "source": [
    "char_at_pos([2, 4, 6, 8, 10], \"even\")"
   ]
  },
  {
   "cell_type": "code",
   "execution_count": 63,
   "id": "b6105006",
   "metadata": {},
   "outputs": [
    {
     "data": {
      "text/plain": [
       "'EAI'"
      ]
     },
     "execution_count": 63,
     "metadata": {},
     "output_type": "execute_result"
    }
   ],
   "source": [
    "char_at_pos(\"EDABIT\", \"odd\")"
   ]
  },
  {
   "cell_type": "code",
   "execution_count": 64,
   "id": "edc43d61",
   "metadata": {},
   "outputs": [
    {
     "data": {
      "text/plain": [
       "['A', 'B', 'T', 'A', 'I', 'Y']"
      ]
     },
     "execution_count": 64,
     "metadata": {},
     "output_type": "execute_result"
    }
   ],
   "source": [
    "char_at_pos([\"A\", \"R\", \"B\", \"I\", \"T\", \"R\", \"A\", \"R\", \"I\", \"L\", \"Y\"], \"odd\")"
   ]
  },
  {
   "cell_type": "raw",
   "id": "0d65076b",
   "metadata": {},
   "source": [
    "4. Write a function that returns the greatest common divisor of all list\n",
    "elements. If the greatest common divisor is 1, return 1.\n",
    "Examples\n",
    "GCD([10, 20, 40]) ➞ 10\n",
    "GCD([1, 2, 3, 100]) ➞ 1\n",
    "GCD([1024, 192, 2048, 512]) ➞ 64"
   ]
  },
  {
   "cell_type": "code",
   "execution_count": null,
   "id": "3857a7e0",
   "metadata": {},
   "outputs": [],
   "source": []
  },
  {
   "cell_type": "raw",
   "id": "31ffddcc",
   "metadata": {},
   "source": [
    "Q. 5. A number/string is a palindrome if the digits/characters are the same when\n",
    "\n",
    "read both forward and backward. Examples include 'racecar' and 12321. Given a positive number n, check if n or the binary representation of n is palindromic. Return the following:\n",
    "\n",
    "'Decimal only.' if only n is a palindrome.\n",
    "'Binary only.' if only the binary representation of n is a palindrome.\n",
    "'Decimal and binary.' if both are palindromes.\n",
    "'Neither!' if neither are palindromes."
   ]
  },
  {
   "cell_type": "code",
   "execution_count": 87,
   "id": "22c19af1",
   "metadata": {},
   "outputs": [],
   "source": [
    "def palin(n):\n",
    "    a=b=0\n",
    "    rem=n\n",
    "    while(rem !=0):\n",
    "        a=rem%10\n",
    "        b=b*10+a\n",
    "        rem=rem//10\n",
    "    if(n==b):\n",
    "        return True\n",
    "    else:\n",
    "        return False\n",
    "    \n",
    "def palindrome_type(n):\n",
    "    bin_num=int(str(bin(n))[2::])\n",
    "    print(\"#decimal= \",n)\n",
    "    print(\"#binary = \",bin_num)\n",
    "    dec_chk=palin(n)\n",
    "    bin_chk=palin(bin_num)\n",
    "    if(bin_chk and dec_chk):\n",
    "        print(\"Decimal and binary.\")\n",
    "    elif(bin_chk and not dec_chk):\n",
    "        print(\"Binary only.\")\n",
    "    elif(not bin_chk and dec_chk):\n",
    "        print(\"Decimal only.\")\n",
    "    else:\n",
    "        print(\"Neither!\")"
   ]
  },
  {
   "cell_type": "code",
   "execution_count": 88,
   "id": "6d2e1ada",
   "metadata": {},
   "outputs": [
    {
     "name": "stdout",
     "output_type": "stream",
     "text": [
      "#decimal=  1306031\n",
      "#binary =  100111110110110101111\n",
      "Decimal only.\n"
     ]
    }
   ],
   "source": [
    "palindrome_type(1306031)"
   ]
  },
  {
   "cell_type": "code",
   "execution_count": 89,
   "id": "ff8b0fa3",
   "metadata": {},
   "outputs": [
    {
     "name": "stdout",
     "output_type": "stream",
     "text": [
      "#decimal=  427787\n",
      "#binary =  1101000011100001011\n",
      "Binary only.\n"
     ]
    }
   ],
   "source": [
    "palindrome_type(427787)"
   ]
  },
  {
   "cell_type": "code",
   "execution_count": 90,
   "id": "335e4f39",
   "metadata": {},
   "outputs": [
    {
     "name": "stdout",
     "output_type": "stream",
     "text": [
      "#decimal=  313\n",
      "#binary =  100111001\n",
      "Decimal and binary.\n"
     ]
    }
   ],
   "source": [
    "palindrome_type(313)"
   ]
  },
  {
   "cell_type": "code",
   "execution_count": 91,
   "id": "bc1ac0c2",
   "metadata": {},
   "outputs": [
    {
     "name": "stdout",
     "output_type": "stream",
     "text": [
      "#decimal=  934\n",
      "#binary =  1110100110\n",
      "Neither!\n"
     ]
    }
   ],
   "source": [
    "palindrome_type(934)"
   ]
  },
  {
   "cell_type": "code",
   "execution_count": null,
   "id": "a67bac74",
   "metadata": {},
   "outputs": [],
   "source": []
  }
 ],
 "metadata": {
  "kernelspec": {
   "display_name": "Python 3 (ipykernel)",
   "language": "python",
   "name": "python3"
  },
  "language_info": {
   "codemirror_mode": {
    "name": "ipython",
    "version": 3
   },
   "file_extension": ".py",
   "mimetype": "text/x-python",
   "name": "python",
   "nbconvert_exporter": "python",
   "pygments_lexer": "ipython3",
   "version": "3.9.12"
  }
 },
 "nbformat": 4,
 "nbformat_minor": 5
}
