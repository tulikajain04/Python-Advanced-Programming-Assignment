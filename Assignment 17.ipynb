{
 "cells": [
  {
   "cell_type": "raw",
   "id": "ff949835",
   "metadata": {},
   "source": [
    "Q.1. Create a function that transposes a 2D matrix.\n",
    "\n",
    "Examples\n",
    "\n",
    "transpose_matrix([ [1, 1, 1], [2, 2, 2], [3, 3, 3] ]) ➞ [ [1, 2, 3], [1, 2, 3], [1, 2, 3] ]\n",
    "\n",
    "transpose_matrix([ [5, 5], [6, 7], [9, 1] ]) ➞ [ [5, 6, 9], [5, 7, 1] ]"
   ]
  },
  {
   "cell_type": "code",
   "execution_count": 22,
   "id": "8e034e0b",
   "metadata": {},
   "outputs": [],
   "source": [
    "def transpose_matrix(m):\n",
    "    result=[]\n",
    "    for i in range(len(m[0])):\n",
    "        temp=[]\n",
    "        for j in m:\n",
    "            temp.append(j[i])\n",
    "        result.append(temp)\n",
    "    return result\n",
    "            "
   ]
  },
  {
   "cell_type": "code",
   "execution_count": 23,
   "id": "c3d0256b",
   "metadata": {},
   "outputs": [
    {
     "data": {
      "text/plain": [
       "[[1, 2, 3], [1, 2, 3], [1, 2, 3]]"
      ]
     },
     "execution_count": 23,
     "metadata": {},
     "output_type": "execute_result"
    }
   ],
   "source": [
    "transpose_matrix([ [1, 1, 1], [2, 2, 2], [3, 3, 3] ])"
   ]
  },
  {
   "cell_type": "code",
   "execution_count": 24,
   "id": "154e293a",
   "metadata": {},
   "outputs": [
    {
     "data": {
      "text/plain": [
       "[[5, 6, 9], [5, 7, 1]]"
      ]
     },
     "execution_count": 24,
     "metadata": {},
     "output_type": "execute_result"
    }
   ],
   "source": [
    "transpose_matrix([ [5, 5], [6, 7], [9, 1] ])"
   ]
  },
  {
   "cell_type": "raw",
   "id": "3a816a29",
   "metadata": {},
   "source": [
    "2. Create a function that determines whether a string is a valid hex code.\n",
    "A hex code must begin with a pound key # and is exactly 6 characters in length. Each character must be a digit from 0-9 or an alphabetic character from A-F. All alphabetic characters may be uppercase or lowercase.\n",
    "Examples:\n",
    "is_valid_hex_code(\"#CD5C5C\") ➞ True\n",
    "is_valid_hex_code(\"#EAECEE\") ➞ True\n",
    "is_valid_hex_code(\"#eaecee\") ➞ True\n",
    "\n",
    "is_valid_hex_code(\"#CD5C58C\") ➞ False\n",
    "# Length exceeds 6\n",
    "\n",
    "is_valid_hex_code(\"#CD5C5Z\") ➞ False\n",
    "# Not all alphabetic characters in A-F\n",
    "\n",
    "is_valid_hex_code(\"#CD5C&C\") ➞ False\n",
    "# Contains unacceptable character\n",
    "\n",
    "is_valid_hex_code(\"CD5C5C\") ➞ False\n",
    "# Missing #"
   ]
  },
  {
   "cell_type": "code",
   "execution_count": 50,
   "id": "9f26240d",
   "metadata": {},
   "outputs": [],
   "source": [
    "def is_valid_hex_code(s):\n",
    "    result=True\n",
    "    for i in s:\n",
    "        if(i.lower() not in ('#abcdef0123456789' or (len(s)!=7))):\n",
    "            result=False\n",
    "    return result"
   ]
  },
  {
   "cell_type": "code",
   "execution_count": 51,
   "id": "758a3651",
   "metadata": {},
   "outputs": [
    {
     "data": {
      "text/plain": [
       "True"
      ]
     },
     "execution_count": 51,
     "metadata": {},
     "output_type": "execute_result"
    }
   ],
   "source": [
    "is_valid_hex_code(\"CD5C5C\")"
   ]
  },
  {
   "cell_type": "code",
   "execution_count": 52,
   "id": "72eec169",
   "metadata": {},
   "outputs": [
    {
     "data": {
      "text/plain": [
       "False"
      ]
     },
     "execution_count": 52,
     "metadata": {},
     "output_type": "execute_result"
    }
   ],
   "source": [
    "is_valid_hex_code(\"#CD5C&C\")"
   ]
  },
  {
   "cell_type": "code",
   "execution_count": 53,
   "id": "b26d5397",
   "metadata": {},
   "outputs": [
    {
     "data": {
      "text/plain": [
       "False"
      ]
     },
     "execution_count": 53,
     "metadata": {},
     "output_type": "execute_result"
    }
   ],
   "source": [
    "is_valid_hex_code(\"#CD5C5Z\")"
   ]
  },
  {
   "cell_type": "code",
   "execution_count": 54,
   "id": "bbf990d5",
   "metadata": {},
   "outputs": [
    {
     "data": {
      "text/plain": [
       "True"
      ]
     },
     "execution_count": 54,
     "metadata": {},
     "output_type": "execute_result"
    }
   ],
   "source": [
    "is_valid_hex_code(\"#CD5C58C\")"
   ]
  },
  {
   "cell_type": "code",
   "execution_count": 55,
   "id": "9d5776b0",
   "metadata": {},
   "outputs": [
    {
     "data": {
      "text/plain": [
       "True"
      ]
     },
     "execution_count": 55,
     "metadata": {},
     "output_type": "execute_result"
    }
   ],
   "source": [
    "is_valid_hex_code(\"#eaecee\")"
   ]
  },
  {
   "cell_type": "code",
   "execution_count": 56,
   "id": "535dd407",
   "metadata": {},
   "outputs": [
    {
     "data": {
      "text/plain": [
       "True"
      ]
     },
     "execution_count": 56,
     "metadata": {},
     "output_type": "execute_result"
    }
   ],
   "source": [
    "is_valid_hex_code(\"#EAECEE\")"
   ]
  },
  {
   "cell_type": "code",
   "execution_count": 57,
   "id": "c479f2a1",
   "metadata": {},
   "outputs": [
    {
     "data": {
      "text/plain": [
       "True"
      ]
     },
     "execution_count": 57,
     "metadata": {},
     "output_type": "execute_result"
    }
   ],
   "source": [
    "is_valid_hex_code(\"#CD5C5C\")"
   ]
  },
  {
   "cell_type": "raw",
   "id": "7881551b",
   "metadata": {},
   "source": [
    "3. Given a list of math equations (given as strings), return the percentage of correct answers as a string. Round to the nearest whole number.\n",
    "Examples:\n",
    "mark_maths([\"2+2=4\", \"3+2=5\", \"10-3=3\", \"5+5=10\"]) ➞ \"75%\"\n",
    "mark_maths([\"1-2=-2\"]), \"0%\"\n",
    "mark_maths([\"2+3=5\", \"4+4=9\", \"3-1=2\"]) ➞ \"67%\""
   ]
  },
  {
   "cell_type": "code",
   "execution_count": 62,
   "id": "ee79ad37",
   "metadata": {},
   "outputs": [],
   "source": [
    "import math\n",
    "def mark_maths(l):\n",
    "    result=[]\n",
    "    for i in l:\n",
    "        i=i.split('=')\n",
    "        result.append(eval(i[0])==int(i[1]))\n",
    "    print(str(math.ceil((sum(result)/len(l))*100)))"
   ]
  },
  {
   "cell_type": "code",
   "execution_count": 63,
   "id": "faec1f16",
   "metadata": {},
   "outputs": [
    {
     "name": "stdout",
     "output_type": "stream",
     "text": [
      "75\n"
     ]
    }
   ],
   "source": [
    "mark_maths([\"2+2=4\", \"3+2=5\", \"10-3=3\", \"5+5=10\"])"
   ]
  },
  {
   "cell_type": "code",
   "execution_count": 64,
   "id": "ff13f0e5",
   "metadata": {},
   "outputs": [
    {
     "name": "stdout",
     "output_type": "stream",
     "text": [
      "0\n"
     ]
    }
   ],
   "source": [
    "mark_maths([\"1-2=-2\"])"
   ]
  },
  {
   "cell_type": "code",
   "execution_count": 65,
   "id": "19938fb5",
   "metadata": {},
   "outputs": [
    {
     "name": "stdout",
     "output_type": "stream",
     "text": [
      "67\n"
     ]
    }
   ],
   "source": [
    "mark_maths([\"2+3=5\", \"4+4=9\", \"3-1=2\"])"
   ]
  },
  {
   "cell_type": "raw",
   "id": "1657dcba",
   "metadata": {},
   "source": [
    "4. There are two players, Alice and Bob, each with a 3-by-3 grid. A referee tells Alice to fill out one particular row in the grid (say the second row) by putting either a 1 or a 0 in each box, such that the sum of the numbers in that row is odd. The referee tells Bob to fill out one column in the grid (say the first column) by putting either a 1 or a 0 in each box, such that the sum of the numbers in that column is even.\n",
    "Alice and Bob win the game if Alice’s numbers give an odd sum, Bob’s give an even sum, and (most important) they’ve each written down the same number in the one square where their row and column intersect.\n",
    "\n",
    "Examples:\n",
    "magic_square_game([2, \"100\"], [1, \"101\"]) ➞ False\n",
    "magic_square_game([2, \"001\"], [1, \"101\"]) ➞ True\n",
    "magic_square_game([3, \"111\"], [2, \"011\"]) ➞ True\n",
    "magic_square_game([1, \"010\"], [3, \"101\"]) ➞ False\n",
    "# Two lists, Alice [row, \"her choice\"], Bob [column, \"his choice\"]"
   ]
  },
  {
   "cell_type": "code",
   "execution_count": 67,
   "id": "717ef0af",
   "metadata": {},
   "outputs": [],
   "source": [
    "def magic_square_game(l1,l2):\n",
    "    result=False\n",
    "    if(l2[1][l1[0]-1]==l1[1][l2[0]-1]):\n",
    "        result=True\n",
    "    return result"
   ]
  },
  {
   "cell_type": "code",
   "execution_count": 68,
   "id": "ca6f363c",
   "metadata": {},
   "outputs": [
    {
     "data": {
      "text/plain": [
       "False"
      ]
     },
     "execution_count": 68,
     "metadata": {},
     "output_type": "execute_result"
    }
   ],
   "source": [
    "magic_square_game([2, \"100\"], [1, \"101\"])"
   ]
  },
  {
   "cell_type": "code",
   "execution_count": 69,
   "id": "ceca6819",
   "metadata": {},
   "outputs": [
    {
     "data": {
      "text/plain": [
       "True"
      ]
     },
     "execution_count": 69,
     "metadata": {},
     "output_type": "execute_result"
    }
   ],
   "source": [
    "magic_square_game([2, \"001\"], [1, \"101\"])"
   ]
  },
  {
   "cell_type": "code",
   "execution_count": 70,
   "id": "5df8e54f",
   "metadata": {},
   "outputs": [
    {
     "data": {
      "text/plain": [
       "True"
      ]
     },
     "execution_count": 70,
     "metadata": {},
     "output_type": "execute_result"
    }
   ],
   "source": [
    "magic_square_game([3, \"111\"], [2, \"011\"])"
   ]
  },
  {
   "cell_type": "code",
   "execution_count": 71,
   "id": "f11a868c",
   "metadata": {},
   "outputs": [
    {
     "data": {
      "text/plain": [
       "False"
      ]
     },
     "execution_count": 71,
     "metadata": {},
     "output_type": "execute_result"
    }
   ],
   "source": [
    "magic_square_game([1, \"010\"], [3, \"101\"])"
   ]
  },
  {
   "cell_type": "raw",
   "id": "8f623385",
   "metadata": {},
   "source": [
    "5. From point A, an object is moving towards point B at constant velocity va (in km/hr). From point B, another object is moving towards point A at constant velocity vb (in km/hr). Knowing this and the distance between point A and B (in km), write a function that returns how much time passes until both objects meet.\n",
    "Format the output like this: \"2h 23min 34s\"\n",
    "\n",
    "Examples:\n",
    "lets_meet(100, 10, 30) ➞ \"2h 30min 0s\"\n",
    "lets_meet(280, 70, 80) ➞ \"1h 52min 0s\"\n",
    "lets_meet(90, 75, 65) ➞ \"0h 38min 34s\""
   ]
  },
  {
   "cell_type": "code",
   "execution_count": 74,
   "id": "1e614172",
   "metadata": {},
   "outputs": [],
   "source": [
    "import math\n",
    "def lets_meet(d,va,vb):\n",
    "    time=d/(va+vb)\n",
    "    hours=math.floor(time)\n",
    "    minutes=math.floor((time-hours)*60)\n",
    "    sec=math.floor((((time-hours)*60)-minutes)*60)\n",
    "    print(f'{hours}h {minutes}min {sec}s')"
   ]
  },
  {
   "cell_type": "code",
   "execution_count": 75,
   "id": "8e9274d5",
   "metadata": {},
   "outputs": [
    {
     "name": "stdout",
     "output_type": "stream",
     "text": [
      "2h 30min 0s\n"
     ]
    }
   ],
   "source": [
    "lets_meet(100, 10, 30)"
   ]
  },
  {
   "cell_type": "code",
   "execution_count": 76,
   "id": "a5faa031",
   "metadata": {},
   "outputs": [
    {
     "name": "stdout",
     "output_type": "stream",
     "text": [
      "1h 52min 0s\n"
     ]
    }
   ],
   "source": [
    "lets_meet(280, 70, 80)"
   ]
  },
  {
   "cell_type": "code",
   "execution_count": 77,
   "id": "949368de",
   "metadata": {},
   "outputs": [
    {
     "name": "stdout",
     "output_type": "stream",
     "text": [
      "0h 38min 34s\n"
     ]
    }
   ],
   "source": [
    "lets_meet(90, 75, 65)"
   ]
  },
  {
   "cell_type": "code",
   "execution_count": null,
   "id": "ee392b72",
   "metadata": {},
   "outputs": [],
   "source": []
  }
 ],
 "metadata": {
  "kernelspec": {
   "display_name": "Python 3 (ipykernel)",
   "language": "python",
   "name": "python3"
  },
  "language_info": {
   "codemirror_mode": {
    "name": "ipython",
    "version": 3
   },
   "file_extension": ".py",
   "mimetype": "text/x-python",
   "name": "python",
   "nbconvert_exporter": "python",
   "pygments_lexer": "ipython3",
   "version": "3.9.12"
  }
 },
 "nbformat": 4,
 "nbformat_minor": 5
}
