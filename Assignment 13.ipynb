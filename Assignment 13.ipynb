{
 "cells": [
  {
   "cell_type": "raw",
   "id": "dbe1e2d0",
   "metadata": {},
   "source": [
    "Q.1. Create a function that takes a list and string. The function should remove the letters in the string from the list, and return the list.\n",
    "\n",
    "Examples\n",
    "\n",
    "remove_letters([\"s\", \"t\", \"r\", \"i\", \"n\", \"g\", \"w\"], \"string\") ➞ [\"w\"]\n",
    "\n",
    "remove_letters([\"b\", \"b\", \"l\", \"l\", \"g\", \"n\", \"o\", \"a\", \"w\"], \"balloon\") ➞ [\"b\", \"g\", \"w\"]\n",
    "\n",
    "remove_letters([\"d\", \"b\", \"t\", \"e\", \"a\", \"i\"], \"edabit\") ➞ []"
   ]
  },
  {
   "cell_type": "code",
   "execution_count": 37,
   "id": "6c64647a",
   "metadata": {},
   "outputs": [],
   "source": [
    "def remove_letters(l,s):\n",
    "    n=[]\n",
    "    for i in s:\n",
    "        n.append(i)\n",
    "    \n",
    "    for i in n:\n",
    "        if(i in l):\n",
    "            l.remove(i)\n",
    "    \n",
    "    return l"
   ]
  },
  {
   "cell_type": "code",
   "execution_count": 12,
   "id": "385435aa",
   "metadata": {},
   "outputs": [
    {
     "data": {
      "text/plain": [
       "[]"
      ]
     },
     "execution_count": 12,
     "metadata": {},
     "output_type": "execute_result"
    }
   ],
   "source": [
    "remove_letters([\"d\", \"b\", \"t\", \"e\", \"a\", \"i\"], \"edabit\")"
   ]
  },
  {
   "cell_type": "code",
   "execution_count": 13,
   "id": "9a141a7d",
   "metadata": {},
   "outputs": [
    {
     "data": {
      "text/plain": [
       "['b', 'g', 'w']"
      ]
     },
     "execution_count": 13,
     "metadata": {},
     "output_type": "execute_result"
    }
   ],
   "source": [
    "remove_letters([\"b\", \"b\", \"l\", \"l\", \"g\", \"n\", \"o\", \"a\", \"w\"], \"balloon\")"
   ]
  },
  {
   "cell_type": "code",
   "execution_count": 14,
   "id": "3488dbb8",
   "metadata": {},
   "outputs": [
    {
     "data": {
      "text/plain": [
       "['w']"
      ]
     },
     "execution_count": 14,
     "metadata": {},
     "output_type": "execute_result"
    }
   ],
   "source": [
    "remove_letters([\"s\", \"t\", \"r\", \"i\", \"n\", \"g\", \"w\"], \"string\")"
   ]
  },
  {
   "cell_type": "raw",
   "id": "24316109",
   "metadata": {},
   "source": [
    "Q. 2. A block sequence in three dimensions. We can write a formula for this one: Create a function that takes a number (step) as an argument and returns the amount of blocks in that step.\n",
    "\n",
    "Examples\n",
    "\n",
    "blocks(1) ➞ 5\n",
    "\n",
    "blocks(5) ➞ 39\n",
    "\n",
    "blocks(2) ➞ 12"
   ]
  },
  {
   "cell_type": "code",
   "execution_count": 15,
   "id": "e0a932d9",
   "metadata": {},
   "outputs": [],
   "source": [
    "def blocks(n):\n",
    "    a=5\n",
    "    b=7\n",
    "    if(n==1):\n",
    "        return a\n",
    "    else:\n",
    "        for i in range(1,n):\n",
    "            a=a+b\n",
    "            b+=1\n",
    "        return a"
   ]
  },
  {
   "cell_type": "code",
   "execution_count": 16,
   "id": "808a25ad",
   "metadata": {},
   "outputs": [
    {
     "data": {
      "text/plain": [
       "12"
      ]
     },
     "execution_count": 16,
     "metadata": {},
     "output_type": "execute_result"
    }
   ],
   "source": [
    "blocks(2)"
   ]
  },
  {
   "cell_type": "code",
   "execution_count": 17,
   "id": "aa407491",
   "metadata": {},
   "outputs": [
    {
     "data": {
      "text/plain": [
       "39"
      ]
     },
     "execution_count": 17,
     "metadata": {},
     "output_type": "execute_result"
    }
   ],
   "source": [
    "blocks(5)"
   ]
  },
  {
   "cell_type": "code",
   "execution_count": 18,
   "id": "aa032f17",
   "metadata": {},
   "outputs": [
    {
     "data": {
      "text/plain": [
       "5"
      ]
     },
     "execution_count": 18,
     "metadata": {},
     "output_type": "execute_result"
    }
   ],
   "source": [
    "blocks(1)"
   ]
  },
  {
   "cell_type": "raw",
   "id": "701201ad",
   "metadata": {},
   "source": [
    "Q.3. Create a function that subtracts one positive integer from another, without using any arithmetic operators such as -, %, /, +, etc.\n",
    "\n",
    "Examples\n",
    "\n",
    "my_sub(5, 9) ➞ 4\n",
    "\n",
    "my_sub(10, 30) ➞ 20\n",
    "\n",
    "my_sub(0, 0) ➞ 0"
   ]
  },
  {
   "cell_type": "code",
   "execution_count": 20,
   "id": "03627f3b",
   "metadata": {},
   "outputs": [],
   "source": [
    "def my_sub(a,b):\n",
    "    n=[1 for i in range(a)]\n",
    "    m=[1 for i in range(b)]\n",
    "    for i in n:\n",
    "        if(i in m):\n",
    "            m.remove(i)\n",
    "    return sum(m)"
   ]
  },
  {
   "cell_type": "code",
   "execution_count": 21,
   "id": "56ba44e0",
   "metadata": {},
   "outputs": [
    {
     "data": {
      "text/plain": [
       "4"
      ]
     },
     "execution_count": 21,
     "metadata": {},
     "output_type": "execute_result"
    }
   ],
   "source": [
    "my_sub(5, 9)"
   ]
  },
  {
   "cell_type": "code",
   "execution_count": 22,
   "id": "327e301a",
   "metadata": {},
   "outputs": [
    {
     "data": {
      "text/plain": [
       "20"
      ]
     },
     "execution_count": 22,
     "metadata": {},
     "output_type": "execute_result"
    }
   ],
   "source": [
    "my_sub(10, 30)"
   ]
  },
  {
   "cell_type": "code",
   "execution_count": 23,
   "id": "80dbc051",
   "metadata": {},
   "outputs": [
    {
     "data": {
      "text/plain": [
       "0"
      ]
     },
     "execution_count": 23,
     "metadata": {},
     "output_type": "execute_result"
    }
   ],
   "source": [
    "my_sub(0, 0)"
   ]
  },
  {
   "cell_type": "raw",
   "id": "cdc76dac",
   "metadata": {},
   "source": [
    "Q. 4. Create a function that takes a string containing money in dollars and pounds sterling (seperated by comma) and returns the sum of dollar bills only, as an integer.\n",
    "\n",
    "For the input string:\n",
    "\n",
    "Each amount is prefixed by the currency symbol: $ for dollars and £ for pounds.\n",
    "Thousands are represented by the suffix k.\n",
    "i.e. \n",
    "4,000 and £40k = £40,000\n",
    "\n",
    "Examples\n",
    "\n",
    "add_bill(\"d20,p40,p60,d50\") ➞ 20 + 50 = 70\n",
    "\n",
    "add_bill(\"p30,d20,p60,d150,p360\") ➞ 20 + 150 = 170\n",
    "\n",
    "add_bill(\"p30,d2k,p60,d200,p360\") ➞ 2 * 1000 + 200 = 2200"
   ]
  },
  {
   "cell_type": "code",
   "execution_count": 31,
   "id": "cfc72aaa",
   "metadata": {},
   "outputs": [],
   "source": [
    "def add_bill(l):\n",
    "    a=[]\n",
    "    l1=list(l.split(\",\"))\n",
    "    l1=[i for i in l1 if i[0]=='d']\n",
    "    l1=[i[1:] for i in l1 if i[0]=='d']\n",
    "    for i in l1:\n",
    "        if('k' in i):\n",
    "            i=i[:-1]\n",
    "            i=int(i)*1000\n",
    "            a.append(i)\n",
    "        else:\n",
    "            a.append(int(i))\n",
    "    return sum(a)"
   ]
  },
  {
   "cell_type": "code",
   "execution_count": 32,
   "id": "f70a80ef",
   "metadata": {},
   "outputs": [
    {
     "data": {
      "text/plain": [
       "2200"
      ]
     },
     "execution_count": 32,
     "metadata": {},
     "output_type": "execute_result"
    }
   ],
   "source": [
    "add_bill(\"p30,d2k,p60,d200,p360\")"
   ]
  },
  {
   "cell_type": "code",
   "execution_count": 33,
   "id": "6d3a43cd",
   "metadata": {},
   "outputs": [
    {
     "data": {
      "text/plain": [
       "170"
      ]
     },
     "execution_count": 33,
     "metadata": {},
     "output_type": "execute_result"
    }
   ],
   "source": [
    "add_bill(\"p30,d20,p60,d150,p360\")"
   ]
  },
  {
   "cell_type": "code",
   "execution_count": 34,
   "id": "6326beb0",
   "metadata": {},
   "outputs": [
    {
     "data": {
      "text/plain": [
       "70"
      ]
     },
     "execution_count": 34,
     "metadata": {},
     "output_type": "execute_result"
    }
   ],
   "source": [
    "add_bill(\"d20,p40,p60,d50\")"
   ]
  },
  {
   "cell_type": "raw",
   "id": "3d9e1a01",
   "metadata": {},
   "source": [
    "Q.5. Create a function that flips a horizontal list into a vertical list, and a vertical list into a horizontal list.\n",
    "\n",
    "In other words, take an 1 x n list (1 row + n columns) and flip it into a n x 1 list (n rows and 1 column), and vice versa.\n",
    "\n",
    "Examples\n",
    "\n",
    "flip_list([1, 2, 3, 4]) ➞ [[1], [2], [3], [4]]\n",
    "\n",
    "Take a horizontal list and flip it vertical.\n",
    "\n",
    "flip_list([[5], [6], [9]]) ➞ [5, 6, 9]\n",
    "\n",
    "Take a vertical list and flip it horizontal.\n",
    "\n",
    "flip_list([]) ➞ []"
   ]
  },
  {
   "cell_type": "code",
   "execution_count": null,
   "id": "fa06e958",
   "metadata": {},
   "outputs": [],
   "source": [
    "def flip_list(l):\n",
    "    out_l=[]\n",
    "    for i in l:\n",
    "        if(type(i)!=list):\n",
    "            l1=[str(i)]\n",
    "            for j in l1:\n",
    "                t=j.split(',')\n",
    "                out_l.append(j)\n",
    "        else:\n",
    "            out_l.append(i[0])\n",
    "    return"
   ]
  }
 ],
 "metadata": {
  "kernelspec": {
   "display_name": "Python 3 (ipykernel)",
   "language": "python",
   "name": "python3"
  },
  "language_info": {
   "codemirror_mode": {
    "name": "ipython",
    "version": 3
   },
   "file_extension": ".py",
   "mimetype": "text/x-python",
   "name": "python",
   "nbconvert_exporter": "python",
   "pygments_lexer": "ipython3",
   "version": "3.9.12"
  }
 },
 "nbformat": 4,
 "nbformat_minor": 5
}
